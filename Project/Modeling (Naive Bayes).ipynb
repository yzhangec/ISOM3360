{
 "cells": [
  {
   "cell_type": "code",
   "execution_count": 1,
   "metadata": {},
   "outputs": [
    {
     "data": {
      "text/plain": [
       "<Figure size 1296x432 with 0 Axes>"
      ]
     },
     "metadata": {},
     "output_type": "display_data"
    }
   ],
   "source": [
    "# linear algebra\n",
    "import numpy as np \n",
    "\n",
    "# data processing\n",
    "import pandas as pd \n",
    "import datetime\n",
    "import seaborn as sns\n",
    "from sklearn.model_selection import train_test_split\n",
    "\n",
    "# data visualization\n",
    "import seaborn as sns\n",
    "%matplotlib inline\n",
    "from matplotlib import pyplot as plt\n",
    "from matplotlib import style\n",
    "\n",
    "# Algorithms\n",
    "from sklearn import linear_model\n",
    "from sklearn.linear_model import LogisticRegression\n",
    "from sklearn.linear_model import LogisticRegressionCV\n",
    "from sklearn.ensemble import RandomForestClassifier\n",
    "from sklearn.linear_model import Perceptron\n",
    "from sklearn.linear_model import SGDClassifier\n",
    "from sklearn.tree import DecisionTreeClassifier\n",
    "from sklearn.neighbors import KNeighborsClassifier\n",
    "from sklearn.svm import SVC, LinearSVC\n",
    "from sklearn.naive_bayes import GaussianNB\n",
    "from sklearn import preprocessing\n",
    "from scipy import stats\n",
    "\n",
    "# import cross validation and other evaluation tool \n",
    "from sklearn.model_selection import cross_val_score\n",
    "from sklearn.model_selection import cross_val_predict\n",
    "from sklearn.metrics import accuracy_score\n",
    "from sklearn.metrics import classification_report\n",
    "from sklearn.metrics import confusion_matrix\n",
    "# ??\n",
    "from sklearn.metrics import roc_curve, auc\n",
    "from sklearn import metrics\n",
    "import matplotlib as mpl\n",
    "import matplotlib.pyplot as plt\n",
    "\n",
    "# set display options\n",
    "pd.options.display.max_rows = 1000\n",
    "pd.options.display.max_columns = 300\n",
    "%matplotlib inline\n",
    "fig=plt.figure(figsize=(18,6))"
   ]
  },
  {
   "cell_type": "code",
   "execution_count": 2,
   "metadata": {},
   "outputs": [
    {
     "data": {
      "text/plain": [
       "<matplotlib.axes._subplots.AxesSubplot at 0x7fcf6bcb6350>"
      ]
     },
     "execution_count": 2,
     "metadata": {},
     "output_type": "execute_result"
    },
    {
     "data": {
      "image/png": "[encoded data removed]",
      "text/plain": [
       "<Figure size 432x288 with 1 Axes>"
      ]
     },
     "metadata": {
      "needs_background": "light"
     },
     "output_type": "display_data"
    }
   ],
   "source": [
    "data = pd.read_csv(\"Hotel_Bookings_Prepared.csv\", index_col = \"Unnamed: 0\")\n",
    "data['reservation_status'].hist()"
   ]
  },
  {
   "cell_type": "code",
   "execution_count": 18,
   "metadata": {},
   "outputs": [
    {
     "data": {
      "text/plain": [
       "array(['is_canceled', 'lead_time', 'arrival_date_year',\n",
       "       'arrival_date_week_number', 'arrival_date_day_of_month',\n",
       "       'stays_in_weekend_nights', 'stays_in_week_nights', 'adults',\n",
       "       'children', 'babies', 'country', 'is_repeated_guest',\n",
       "       'previous_cancellations', 'previous_bookings_not_canceled',\n",
       "       'reserved_room_type', 'assigned_room_type', 'booking_changes',\n",
       "       'agent', 'company', 'days_in_waiting_list', 'adr',\n",
       "       'required_car_parking_spaces', 'total_of_special_requests',\n",
       "       'reservation_status', 'reservation_status_date', 'is_company',\n",
       "       'is_agent', 'is_diff_room_type', 'is_holiday', 'hotel_encoded',\n",
       "       'arrival_date_month_encoded', 'meal_encoded',\n",
       "       'market_segment_encoded', 'distribution_channel_encoded',\n",
       "       'customer_type_encoded', 'deposit_type_encoded',\n",
       "       'arrival_date_day_of_the_week_encoded', 'hotel_City Hotel',\n",
       "       'hotel_Resort Hotel', 'arrival_date_month_April',\n",
       "       'arrival_date_month_August', 'arrival_date_month_December',\n",
       "       'arrival_date_month_February', 'arrival_date_month_January',\n",
       "       'arrival_date_month_July', 'arrival_date_month_June',\n",
       "       'arrival_date_month_March', 'arrival_date_month_May',\n",
       "       'arrival_date_month_November', 'arrival_date_month_October',\n",
       "       'arrival_date_month_September', 'meal_BB', 'meal_FB', 'meal_HB',\n",
       "       'meal_SC', 'meal_Undefined', 'market_segment_Aviation',\n",
       "       'market_segment_Complementary', 'market_segment_Corporate',\n",
       "       'market_segment_Direct', 'market_segment_Groups',\n",
       "       'market_segment_Offline TA/TO', 'market_segment_Online TA',\n",
       "       'market_segment_Undefined', 'distribution_channel_Corporate',\n",
       "       'distribution_channel_Direct', 'distribution_channel_GDS',\n",
       "       'distribution_channel_TA/TO', 'distribution_channel_Undefined',\n",
       "       'customer_type_Contract', 'customer_type_Group',\n",
       "       'customer_type_Transient', 'customer_type_Transient-Party',\n",
       "       'deposit_type_No Deposit', 'deposit_type_Non Refund',\n",
       "       'deposit_type_Refundable', 'arrival_date_day_of_the_week_Friday',\n",
       "       'arrival_date_day_of_the_week_Monday',\n",
       "       'arrival_date_day_of_the_week_Saturday',\n",
       "       'arrival_date_day_of_the_week_Sunday',\n",
       "       'arrival_date_day_of_the_week_Thursday',\n",
       "       'arrival_date_day_of_the_week_Tuesday',\n",
       "       'arrival_date_day_of_the_week_Wednesday', 'continent_encoded',\n",
       "       'continent_Africa', 'continent_Antarctica', 'continent_Asia',\n",
       "       'continent_Australia', 'continent_Europe',\n",
       "       'continent_North America', 'continent_South America'], dtype=object)"
      ]
     },
     "execution_count": 18,
     "metadata": {},
     "output_type": "execute_result"
    }
   ],
   "source": [
    "data.columns.values"
   ]
  },
  {
   "cell_type": "code",
   "execution_count": 7,
   "metadata": {},
   "outputs": [],
   "source": [
    "# features = list(data.columns.values)\n",
    "# to_be_removed = ['is_canceled','arrival_date_year','arrival_date_week_number',\n",
    "#                  'arrival_date_day_of_month','country','reserved_room_type', \n",
    "#                  'assigned_room_type','agent', 'company','reservation_status', \n",
    "#                  'reservation_status_date','arrival_date_day_of_the_week','is_repeated_guest']\n",
    "# for feature in to_be_removed:\n",
    "#     features.remove(f\"{feature}\")\n",
    "features = ['lead_time', \\\n",
    " 'stays_in_weekend_nights', \\\n",
    " 'stays_in_week_nights', \\\n",
    " 'adults', \\\n",
    " 'children', \\\n",
    " 'babies', \\\n",
    " 'previous_cancellations', \\\n",
    " 'previous_bookings_not_canceled', \\\n",
    " 'booking_changes', \\\n",
    " 'days_in_waiting_list', \\\n",
    " 'adr', \\\n",
    " 'required_car_parking_spaces', \\\n",
    " 'total_of_special_requests', \\\n",
    " 'is_company', \\\n",
    " 'is_agent', \\\n",
    " 'is_holiday', \\\n",
    " 'is_diff_room_type', \\\n",
    " 'hotel_encoded', \\\n",
    " 'arrival_date_month_encoded', \\\n",
    " 'meal_encoded', \\\n",
    " 'market_segment_encoded', \\\n",
    " 'distribution_channel_encoded', \\\n",
    " 'customer_type_encoded', \\\n",
    " 'deposit_type_encoded', \\\n",
    " 'hotel_City Hotel', \\\n",
    " 'hotel_Resort Hotel', \\\n",
    " 'continent_encoded',\\\n",
    " 'arrival_date_day_of_the_week_encoded']"
   ]
  },
  {
   "cell_type": "code",
   "execution_count": 8,
   "metadata": {},
   "outputs": [],
   "source": [
    "# define model features and label\n",
    "X = data[features]\n",
    "# change target column to array\n",
    "y = data['is_canceled'].values.ravel()"
   ]
  },
  {
   "cell_type": "code",
   "execution_count": 9,
   "metadata": {},
   "outputs": [],
   "source": [
    "X_train,X_test,y_train,y_test = train_test_split(X,y,test_size=0.3,random_state=1)"
   ]
  },
  {
   "cell_type": "code",
   "execution_count": 10,
   "metadata": {},
   "outputs": [],
   "source": [
    "#Import Multinomial Naive Bayes model from sklearn\n",
    "from sklearn.naive_bayes import MultinomialNB\n",
    "\n",
    "#Create a Multinomial Bayes Classifier\n",
    "mnb = MultinomialNB()"
   ]
  },
  {
   "cell_type": "code",
   "execution_count": 11,
   "metadata": {},
   "outputs": [],
   "source": [
    "pred_y = cross_val_predict(mnb,X_train,y_train,cv=10)\n",
    "pred_proba = cross_val_predict(mnb, X_train,y_train,cv=10, method = 'predict_proba')"
   ]
  },
  {
   "cell_type": "code",
   "execution_count": 12,
   "metadata": {},
   "outputs": [
    {
     "data": {
      "text/plain": [
       "MultinomialNB(alpha=1.0, class_prior=None, fit_prior=True)"
      ]
     },
     "execution_count": 12,
     "metadata": {},
     "output_type": "execute_result"
    }
   ],
   "source": [
    "mnb.fit(X_train, y_train)"
   ]
  },
  {
   "cell_type": "code",
   "execution_count": 13,
   "metadata": {},
   "outputs": [
    {
     "data": {
      "text/plain": [
       "array([[0.03313546, 0.96686454],\n",
       "       [0.99107231, 0.00892769],\n",
       "       [0.00994978, 0.99005022],\n",
       "       ...,\n",
       "       [0.83219875, 0.16780125],\n",
       "       [0.49671588, 0.50328412],\n",
       "       [0.40181569, 0.59818431]])"
      ]
     },
     "execution_count": 13,
     "metadata": {},
     "output_type": "execute_result"
    }
   ],
   "source": [
    "# y_pred_prob = the probabilistic predictions\n",
    "y_pred_prob = mnb.predict_proba(X_test)\n",
    "y_pred_prob"
   ]
  },
  {
   "cell_type": "code",
   "execution_count": 14,
   "metadata": {},
   "outputs": [],
   "source": [
    "from sklearn.metrics import roc_curve, auc\n",
    "from sklearn import metrics"
   ]
  },
  {
   "cell_type": "code",
   "execution_count": 15,
   "metadata": {},
   "outputs": [],
   "source": [
    "fpr, tpr, thresholds = metrics.roc_curve(y_test,y_pred_prob[:,1],pos_label=1)"
   ]
  },
  {
   "cell_type": "code",
   "execution_count": 16,
   "metadata": {},
   "outputs": [
    {
     "data": {
      "text/plain": [
       "0.7923818822179752"
      ]
     },
     "execution_count": 16,
     "metadata": {},
     "output_type": "execute_result"
    }
   ],
   "source": [
    "metrics.auc(fpr, tpr)"
   ]
  },
  {
   "cell_type": "code",
   "execution_count": 17,
   "metadata": {},
   "outputs": [
    {
     "data": {
      "text/plain": [
       "[<matplotlib.lines.Line2D at 0x7fcf6ac895d0>]"
      ]
     },
     "execution_count": 17,
     "metadata": {},
     "output_type": "execute_result"
    },
    {
     "data": {
      "image/png": "[encoded data removed]",
      "text/plain": [
       "<Figure size 432x288 with 1 Axes>"
      ]
     },
     "metadata": {
      "needs_background": "light"
     },
     "output_type": "display_data"
    }
   ],
   "source": [
    "plt.plot(fpr,tpr)"
   ]
  },
  {
   "cell_type": "code",
   "execution_count": null,
   "metadata": {},
   "outputs": [],
   "source": []
  }
 ],
 "metadata": {
  "kernelspec": {
   "display_name": "Python 3",
   "language": "python",
   "name": "python3"
  },
  "language_info": {
   "codemirror_mode": {
    "name": "ipython",
    "version": 3
   },
   "file_extension": ".py",
   "mimetype": "text/x-python",
   "name": "python",
   "nbconvert_exporter": "python",
   "pygments_lexer": "ipython3",
   "version": "3.7.6"
  }
 },
 "nbformat": 4,
 "nbformat_minor": 4
}
