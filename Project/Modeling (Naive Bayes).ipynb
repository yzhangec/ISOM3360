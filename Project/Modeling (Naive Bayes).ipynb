{
 "cells": [
  {
   "cell_type": "markdown",
   "metadata": {},
   "source": [
    "# Naive Bayes model"
   ]
  },
  {
   "cell_type": "code",
   "execution_count": 4,
   "metadata": {},
   "outputs": [
    {
     "data": {
      "text/plain": [
       "<Figure size 1296x432 with 0 Axes>"
      ]
     },
     "metadata": {},
     "output_type": "display_data"
    }
   ],
   "source": [
    "# linear algebra\n",
    "import numpy as np \n",
    "\n",
    "# data processing\n",
    "import pandas as pd \n",
    "import datetime\n",
    "from sklearn.model_selection import train_test_split\n",
    "\n",
    "# data visualization\n",
    "%matplotlib inline\n",
    "from matplotlib import pyplot as plt\n",
    "from matplotlib import style\n",
    "\n",
    "# Algorithms\n",
    "from sklearn.naive_bayes import GaussianNB\n",
    "from sklearn.naive_bayes import MultinomialNB\n",
    "from sklearn import preprocessing\n",
    "from scipy import stats\n",
    "from sklearn.metrics import accuracy_score\n",
    "from sklearn.metrics import classification_report\n",
    "from sklearn.metrics import confusion_matrix\n",
    "from sklearn.model_selection import cross_val_score\n",
    "from sklearn.model_selection import cross_val_predict\n",
    "from sklearn.model_selection import GridSearchCV\n",
    "from sklearn.metrics import roc_curve,auc\n",
    "from sklearn.metrics import precision_recall_curve\n",
    "\n",
    "from datetime import date\n",
    "\n",
    "%matplotlib inline\n",
    "fig=plt.figure(figsize=(18,6))"
   ]
  },
  {
   "cell_type": "code",
   "execution_count": 5,
   "metadata": {},
   "outputs": [
    {
     "data": {
      "text/plain": [
       "<matplotlib.axes._subplots.AxesSubplot at 0x7ff2bb979ad0>"
      ]
     },
     "execution_count": 5,
     "metadata": {},
     "output_type": "execute_result"
    },
    {
     "data": {
      "image/png": "[encoded data removed]",
      "text/plain": [
       "<Figure size 432x288 with 1 Axes>"
      ]
     },
     "metadata": {
      "needs_background": "light"
     },
     "output_type": "display_data"
    }
   ],
   "source": [
    "data = pd.read_csv(\"Hotel_Bookings_Prepared.csv\", index_col = \"Unnamed: 0\")\n",
    "data['reservation_status'].hist()"
   ]
  },
  {
   "cell_type": "code",
   "execution_count": 6,
   "metadata": {},
   "outputs": [],
   "source": [
    "# load data\n",
    "data = pd.read_csv('Hotel_Bookings_Prepared.csv')\n",
    "\n",
    "# assign features\n",
    "features = ['lead_time', \\\n",
    " 'stays_in_weekend_nights', \\\n",
    " 'stays_in_week_nights', \\\n",
    " 'adults', \\\n",
    " 'children', \\\n",
    " 'babies', \\\n",
    " 'previous_cancellations', \\\n",
    " 'previous_bookings_not_canceled', \\\n",
    " 'booking_changes', \\\n",
    " 'days_in_waiting_list', \\\n",
    " 'adr', \\\n",
    " 'required_car_parking_spaces', \\\n",
    " 'total_of_special_requests', \\\n",
    " 'is_company', \\\n",
    " 'is_agent', \\\n",
    " 'is_holiday', \\\n",
    " 'is_diff_room_type', \\\n",
    " 'hotel_encoded', \\\n",
    " 'arrival_date_month_encoded', \\\n",
    " 'meal_encoded', \\\n",
    " 'market_segment_encoded', \\\n",
    " 'distribution_channel_encoded', \\\n",
    " 'customer_type_encoded', \\\n",
    " 'deposit_type_encoded', \\\n",
    " 'hotel_City Hotel', \\\n",
    " 'hotel_Resort Hotel', \\\n",
    " 'continent_encoded',\\\n",
    " 'arrival_date_day_of_the_week_encoded'\\\n",
    "]\n",
    "\n",
    "# define model features and label\n",
    "X = data[features]\n",
    "y = data['is_canceled']\n",
    "\n",
    "# Split data\n",
    "X_train,X_test,y_train,y_test = train_test_split(X,y,test_size=0.3,random_state=27)\n"
   ]
  },
  {
   "cell_type": "code",
   "execution_count": 7,
   "metadata": {},
   "outputs": [
    {
     "name": "stdout",
     "output_type": "stream",
     "text": [
      "0.7146913476840606\n"
     ]
    }
   ],
   "source": [
    "#Create a Multinomial Bayes Classifier\n",
    "mnb = MultinomialNB()\n",
    "\n",
    "score = cross_val_score(mnb,X,y,cv=5)\n",
    "print(score.mean())"
   ]
  },
  {
   "cell_type": "code",
   "execution_count": 8,
   "metadata": {},
   "outputs": [
    {
     "data": {
      "text/plain": [
       "MultinomialNB(alpha=1.0, class_prior=None, fit_prior=True)"
      ]
     },
     "execution_count": 8,
     "metadata": {},
     "output_type": "execute_result"
    }
   ],
   "source": [
    "mnb.fit(X_train, y_train)"
   ]
  },
  {
   "cell_type": "code",
   "execution_count": 9,
   "metadata": {},
   "outputs": [
    {
     "data": {
      "text/plain": [
       "0.578289638998241"
      ]
     },
     "execution_count": 9,
     "metadata": {},
     "output_type": "execute_result"
    }
   ],
   "source": [
    "gnb = GaussianNB()\n",
    "\n",
    "score = cross_val_score(gnb,X,y,cv=10)\n",
    "score.mean()"
   ]
  },
  {
   "cell_type": "code",
   "execution_count": 10,
   "metadata": {},
   "outputs": [
    {
     "data": {
      "text/plain": [
       "GaussianNB(priors=None, var_smoothing=1e-09)"
      ]
     },
     "execution_count": 10,
     "metadata": {},
     "output_type": "execute_result"
    }
   ],
   "source": [
    "gnb.fit(X_train,y_train)"
   ]
  },
  {
   "cell_type": "code",
   "execution_count": 21,
   "metadata": {},
   "outputs": [
    {
     "name": "stdout",
     "output_type": "stream",
     "text": [
      "Get the importance rank of each feature:\n",
      "['previous_cancellations' 'babies' 'previous_bookings_not_canceled'\n",
      " 'arrival_date_month_encoded' 'days_in_waiting_list' 'children'\n",
      " 'required_car_parking_spaces' 'booking_changes' 'adr' 'adults' 'is_agent'\n",
      " 'stays_in_weekend_nights' 'stays_in_week_nights' 'is_company' 'lead_time'\n",
      " 'is_holiday' 'is_diff_room_type' 'market_segment_encoded' 'hotel_encoded'\n",
      " 'meal_encoded' 'total_of_special_requests']\n",
      "['required_car_parking_spaces' 'previous_bookings_not_canceled' 'babies'\n",
      " 'booking_changes' 'previous_cancellations' 'days_in_waiting_list'\n",
      " 'children' 'is_holiday' 'adr' 'is_company' 'adults' 'is_agent'\n",
      " 'stays_in_weekend_nights' 'stays_in_week_nights' 'lead_time'\n",
      " 'is_diff_room_type' 'market_segment_encoded' 'total_of_special_requests'\n",
      " 'arrival_date_month_encoded' 'hotel_encoded' 'meal_encoded']\n"
     ]
    }
   ],
   "source": [
    "# feature importances\n",
    "from sklearn.feature_extraction.text import CountVectorizer\n",
    "count_vect = CountVectorizer() \n",
    "neg_class_prob_sorted = mnb.feature_log_prob_[0, :].argsort()\n",
    "pos_class_prob_sorted = mnb.feature_log_prob_[1, :].argsort()\n",
    "\n",
    "print(\"Get the importance rank of each feature:\")\n",
    "print(np.take(features, neg_class_prob_sorted[:]))\n",
    "print(np.take(features, pos_class_prob_sorted[:]))"
   ]
  },
  {
   "cell_type": "code",
   "execution_count": 22,
   "metadata": {},
   "outputs": [],
   "source": [
    "# Remove the features with low rank to prevent disturbance\n",
    "features_selected = ['lead_time', \\\n",
    " 'stays_in_weekend_nights', \\\n",
    " 'stays_in_week_nights', \\\n",
    " 'adults', \\\n",
    " 'children', \\\n",
    " 'babies', \\\n",
    " 'previous_cancellations', \\\n",
    " 'previous_bookings_not_canceled', \\\n",
    " 'booking_changes', \\\n",
    " 'days_in_waiting_list', \\\n",
    " 'adr', \\\n",
    " 'required_car_parking_spaces', \\\n",
    " 'total_of_special_requests', \\\n",
    " 'is_company', \\\n",
    " 'is_holiday', \\\n",
    " 'is_diff_room_type', \\\n",
    " 'hotel_encoded', \\\n",
    " 'meal_encoded', \\\n",
    " 'deposit_type_encoded', \\\n",
    " 'hotel_City Hotel', \\\n",
    " 'hotel_Resort Hotel', \\\n",
    "]\n",
    "\n",
    "# define model features and label\n",
    "X = data[features_selected]\n",
    "y = data['is_canceled']\n",
    "\n",
    "# Split data\n",
    "X_train,X_test,y_train,y_test = train_test_split(X,y,test_size=0.3,random_state=27)"
   ]
  },
  {
   "cell_type": "code",
   "execution_count": 23,
   "metadata": {},
   "outputs": [
    {
     "name": "stdout",
     "output_type": "stream",
     "text": [
      "0.7433453388055952\n"
     ]
    }
   ],
   "source": [
    "#Create a Multinomial Bayes Classifier\n",
    "mnb = MultinomialNB()\n",
    "\n",
    "score = cross_val_score(mnb,X,y,cv=5)\n",
    "print(score.mean())"
   ]
  },
  {
   "cell_type": "code",
   "execution_count": 24,
   "metadata": {},
   "outputs": [
    {
     "data": {
      "text/plain": [
       "MultinomialNB(alpha=1.0, class_prior=None, fit_prior=True)"
      ]
     },
     "execution_count": 24,
     "metadata": {},
     "output_type": "execute_result"
    }
   ],
   "source": [
    "mnb.fit(X_train, y_train)"
   ]
  },
  {
   "cell_type": "code",
   "execution_count": 25,
   "metadata": {},
   "outputs": [
    {
     "data": {
      "text/plain": [
       "0.5648881815897479"
      ]
     },
     "execution_count": 25,
     "metadata": {},
     "output_type": "execute_result"
    }
   ],
   "source": [
    "gnb = GaussianNB()\n",
    "\n",
    "score = cross_val_score(gnb,X,y,cv=10)\n",
    "score.mean()"
   ]
  },
  {
   "cell_type": "code",
   "execution_count": 26,
   "metadata": {},
   "outputs": [
    {
     "data": {
      "text/plain": [
       "GaussianNB(priors=None, var_smoothing=1e-09)"
      ]
     },
     "execution_count": 26,
     "metadata": {},
     "output_type": "execute_result"
    }
   ],
   "source": [
    "gnb.fit(X_train,y_train)"
   ]
  },
  {
   "cell_type": "code",
   "execution_count": 27,
   "metadata": {},
   "outputs": [],
   "source": [
    "pred_y = cross_val_predict(mnb,X_train,y_train,cv=10)\n",
    "pred_proba = cross_val_predict(mnb, X_train,y_train,cv=10, method = 'predict_proba')"
   ]
  },
  {
   "cell_type": "code",
   "execution_count": 28,
   "metadata": {},
   "outputs": [],
   "source": [
    "pred_y_gnb = cross_val_predict(gnb,X_train,y_train,cv=10)\n",
    "pred_proba_gnb = cross_val_predict(gnb, X_train,y_train,cv=10, method = 'predict_proba')"
   ]
  },
  {
   "cell_type": "code",
   "execution_count": 29,
   "metadata": {},
   "outputs": [
    {
     "name": "stdout",
     "output_type": "stream",
     "text": [
      "ROC-AUC\n",
      "AUC: 0.8046196759168296\n"
     ]
    },
    {
     "data": {
      "image/png": "[encoded data removed]",
      "text/plain": [
       "<Figure size 432x288 with 1 Axes>"
      ]
     },
     "metadata": {
      "needs_background": "light"
     },
     "output_type": "display_data"
    },
    {
     "name": "stdout",
     "output_type": "stream",
     "text": [
      "PR-AUC\n",
      "PR-AUC: 0.7594250105573012\n"
     ]
    },
    {
     "data": {
      "image/png": "[encoded data removed]",
      "text/plain": [
       "<Figure size 432x288 with 1 Axes>"
      ]
     },
     "metadata": {
      "needs_background": "light"
     },
     "output_type": "display_data"
    }
   ],
   "source": [
    "y_pred_prob_gnb = gnb.predict_proba(X_test)\n",
    "\n",
    "########################################################################\n",
    "####################### ROC-AUC ########################################\n",
    "print('ROC-AUC')\n",
    "predictions = gnb.predict_proba(X_test)\n",
    "fpr,tpr, _ = roc_curve(y_test, y_pred_prob_gnb[:,1])\n",
    "print('AUC: '+ str(auc(fpr, tpr)))\n",
    "plt.clf()\n",
    "plt.plot(fpr,tpr)\n",
    "plt.show()\n",
    "\n",
    "\n",
    "########################################################################\n",
    "####################### PR-AUC #########################################\n",
    "print('PR-AUC')\n",
    "precision, recall, _ = precision_recall_curve(y_test,y_pred_prob_gnb[:,1])\n",
    "auc_score = auc(recall,precision)\n",
    "print('PR-AUC: ' + str(auc_score))\n",
    "plt.plot(recall, precision, marker='.')\n",
    "plt.show()\n"
   ]
  },
  {
   "cell_type": "code",
   "execution_count": 30,
   "metadata": {},
   "outputs": [
    {
     "name": "stdout",
     "output_type": "stream",
     "text": [
      "ROC-AUC\n",
      "AUC: 0.7906556610044222\n"
     ]
    },
    {
     "data": {
      "image/png": "[encoded data removed]",
      "text/plain": [
       "<Figure size 432x288 with 1 Axes>"
      ]
     },
     "metadata": {
      "needs_background": "light"
     },
     "output_type": "display_data"
    },
    {
     "name": "stdout",
     "output_type": "stream",
     "text": [
      "PR-AUC\n",
      "PR-AUC: 0.7407703164193145\n"
     ]
    },
    {
     "data": {
      "image/png": "[encoded data removed]",
      "text/plain": [
       "<Figure size 432x288 with 1 Axes>"
      ]
     },
     "metadata": {
      "needs_background": "light"
     },
     "output_type": "display_data"
    }
   ],
   "source": [
    "y_pred_prob = mnb.predict_proba(X_test)\n",
    "\n",
    "########################################################################\n",
    "####################### ROC-AUC ########################################\n",
    "print('ROC-AUC')\n",
    "predictions = mnb.predict_proba(X_test)\n",
    "fpr,tpr, _ = roc_curve(y_test, y_pred_prob[:,1])\n",
    "print('AUC: '+ str(auc(fpr, tpr)))\n",
    "plt.clf()\n",
    "plt.plot(fpr,tpr)\n",
    "plt.show()\n",
    "\n",
    "\n",
    "########################################################################\n",
    "####################### PR-AUC #########################################\n",
    "print('PR-AUC')\n",
    "precision, recall, _ = precision_recall_curve(y_test,y_pred_prob[:,1])\n",
    "auc_score = auc(recall,precision)\n",
    "print('PR-AUC: ' + str(auc_score))\n",
    "plt.plot(recall, precision, marker='.')\n",
    "plt.show()"
   ]
  },
  {
   "cell_type": "code",
   "execution_count": null,
   "metadata": {},
   "outputs": [],
   "source": []
  }
 ],
 "metadata": {
  "kernelspec": {
   "display_name": "Python 3",
   "language": "python",
   "name": "python3"
  },
  "language_info": {
   "codemirror_mode": {
    "name": "ipython",
    "version": 3
   },
   "file_extension": ".py",
   "mimetype": "text/x-python",
   "name": "python",
   "nbconvert_exporter": "python",
   "pygments_lexer": "ipython3",
   "version": "3.7.6"
  }
 },
 "nbformat": 4,
 "nbformat_minor": 4
}
