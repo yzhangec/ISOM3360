{
 "cells": [
  {
   "cell_type": "code",
   "execution_count": 1,
   "metadata": {},
   "outputs": [],
   "source": [
    "import pandas as pd\n",
    "import numpy as np"
   ]
  },
  {
   "cell_type": "code",
   "execution_count": 3,
   "metadata": {},
   "outputs": [],
   "source": [
    "# load 'iris' dataset\n",
    "Iris = pd.read_csv('Iris 3 Groups.csv')"
   ]
  },
  {
   "cell_type": "code",
   "execution_count": 4,
   "metadata": {},
   "outputs": [
    {
     "name": "stdout",
     "output_type": "stream",
     "text": [
      "<class 'pandas.core.frame.DataFrame'>\n",
      "RangeIndex: 150 entries, 0 to 149\n",
      "Data columns (total 5 columns):\n",
      " #   Column       Non-Null Count  Dtype  \n",
      "---  ------       --------------  -----  \n",
      " 0   sapallength  150 non-null    float64\n",
      " 1   sepalwidth   150 non-null    float64\n",
      " 2   petallength  150 non-null    float64\n",
      " 3   petalwith    150 non-null    float64\n",
      " 4   Class        150 non-null    object \n",
      "dtypes: float64(4), object(1)\n",
      "memory usage: 6.0+ KB\n"
     ]
    }
   ],
   "source": [
    "Iris.info()"
   ]
  },
  {
   "cell_type": "code",
   "execution_count": 5,
   "metadata": {},
   "outputs": [
    {
     "data": {
      "text/html": [
       "<div>\n",
       "<style scoped>\n",
       "    .dataframe tbody tr th:only-of-type {\n",
       "        vertical-align: middle;\n",
       "    }\n",
       "\n",
       "    .dataframe tbody tr th {\n",
       "        vertical-align: top;\n",
       "    }\n",
       "\n",
       "    .dataframe thead th {\n",
       "        text-align: right;\n",
       "    }\n",
       "</style>\n",
       "<table border=\"1\" class=\"dataframe\">\n",
       "  <thead>\n",
       "    <tr style=\"text-align: right;\">\n",
       "      <th></th>\n",
       "      <th>sapallength</th>\n",
       "      <th>sepalwidth</th>\n",
       "      <th>petallength</th>\n",
       "      <th>petalwith</th>\n",
       "      <th>Class</th>\n",
       "    </tr>\n",
       "  </thead>\n",
       "  <tbody>\n",
       "    <tr>\n",
       "      <th>0</th>\n",
       "      <td>5.1</td>\n",
       "      <td>3.5</td>\n",
       "      <td>1.4</td>\n",
       "      <td>0.2</td>\n",
       "      <td>Iris-setosa</td>\n",
       "    </tr>\n",
       "    <tr>\n",
       "      <th>1</th>\n",
       "      <td>4.9</td>\n",
       "      <td>3.0</td>\n",
       "      <td>1.4</td>\n",
       "      <td>0.2</td>\n",
       "      <td>Iris-setosa</td>\n",
       "    </tr>\n",
       "    <tr>\n",
       "      <th>2</th>\n",
       "      <td>4.7</td>\n",
       "      <td>3.2</td>\n",
       "      <td>1.3</td>\n",
       "      <td>0.2</td>\n",
       "      <td>Iris-setosa</td>\n",
       "    </tr>\n",
       "    <tr>\n",
       "      <th>3</th>\n",
       "      <td>4.6</td>\n",
       "      <td>3.1</td>\n",
       "      <td>1.5</td>\n",
       "      <td>0.2</td>\n",
       "      <td>Iris-setosa</td>\n",
       "    </tr>\n",
       "    <tr>\n",
       "      <th>4</th>\n",
       "      <td>5.0</td>\n",
       "      <td>3.6</td>\n",
       "      <td>1.4</td>\n",
       "      <td>0.2</td>\n",
       "      <td>Iris-setosa</td>\n",
       "    </tr>\n",
       "    <tr>\n",
       "      <th>...</th>\n",
       "      <td>...</td>\n",
       "      <td>...</td>\n",
       "      <td>...</td>\n",
       "      <td>...</td>\n",
       "      <td>...</td>\n",
       "    </tr>\n",
       "    <tr>\n",
       "      <th>145</th>\n",
       "      <td>6.7</td>\n",
       "      <td>3.0</td>\n",
       "      <td>5.2</td>\n",
       "      <td>2.3</td>\n",
       "      <td>Iris-virginica</td>\n",
       "    </tr>\n",
       "    <tr>\n",
       "      <th>146</th>\n",
       "      <td>6.3</td>\n",
       "      <td>2.5</td>\n",
       "      <td>5.0</td>\n",
       "      <td>1.9</td>\n",
       "      <td>Iris-virginica</td>\n",
       "    </tr>\n",
       "    <tr>\n",
       "      <th>147</th>\n",
       "      <td>6.5</td>\n",
       "      <td>3.0</td>\n",
       "      <td>5.2</td>\n",
       "      <td>2.0</td>\n",
       "      <td>Iris-virginica</td>\n",
       "    </tr>\n",
       "    <tr>\n",
       "      <th>148</th>\n",
       "      <td>6.2</td>\n",
       "      <td>3.4</td>\n",
       "      <td>5.4</td>\n",
       "      <td>2.3</td>\n",
       "      <td>Iris-virginica</td>\n",
       "    </tr>\n",
       "    <tr>\n",
       "      <th>149</th>\n",
       "      <td>5.9</td>\n",
       "      <td>3.0</td>\n",
       "      <td>5.1</td>\n",
       "      <td>1.8</td>\n",
       "      <td>Iris-virginica</td>\n",
       "    </tr>\n",
       "  </tbody>\n",
       "</table>\n",
       "<p>150 rows × 5 columns</p>\n",
       "</div>"
      ],
      "text/plain": [
       "     sapallength  sepalwidth  petallength  petalwith           Class\n",
       "0            5.1         3.5          1.4        0.2     Iris-setosa\n",
       "1            4.9         3.0          1.4        0.2     Iris-setosa\n",
       "2            4.7         3.2          1.3        0.2     Iris-setosa\n",
       "3            4.6         3.1          1.5        0.2     Iris-setosa\n",
       "4            5.0         3.6          1.4        0.2     Iris-setosa\n",
       "..           ...         ...          ...        ...             ...\n",
       "145          6.7         3.0          5.2        2.3  Iris-virginica\n",
       "146          6.3         2.5          5.0        1.9  Iris-virginica\n",
       "147          6.5         3.0          5.2        2.0  Iris-virginica\n",
       "148          6.2         3.4          5.4        2.3  Iris-virginica\n",
       "149          5.9         3.0          5.1        1.8  Iris-virginica\n",
       "\n",
       "[150 rows x 5 columns]"
      ]
     },
     "execution_count": 5,
     "metadata": {},
     "output_type": "execute_result"
    }
   ],
   "source": [
    "Iris"
   ]
  },
  {
   "cell_type": "code",
   "execution_count": 6,
   "metadata": {},
   "outputs": [],
   "source": [
    "features = ['sapallength','sepalwidth','petallength','petalwith']"
   ]
  },
  {
   "cell_type": "code",
   "execution_count": 7,
   "metadata": {},
   "outputs": [],
   "source": [
    "# We will need to build the clustering model using features only, ‘Class’ is used for evaluation purpose later\n",
    "X = Iris [features]\n",
    "y = Iris ['Class']"
   ]
  },
  {
   "cell_type": "code",
   "execution_count": 8,
   "metadata": {},
   "outputs": [],
   "source": [
    "from sklearn.model_selection import train_test_split"
   ]
  },
  {
   "cell_type": "code",
   "execution_count": 9,
   "metadata": {},
   "outputs": [],
   "source": [
    "X_train, X_test, y_train, y_test = train_test_split(X, y, test_size=0.4, random_state = 42)"
   ]
  },
  {
   "cell_type": "code",
   "execution_count": 10,
   "metadata": {},
   "outputs": [],
   "source": [
    "# import KMeans from sklearn\n",
    "from sklearn.cluster import KMeans"
   ]
  },
  {
   "cell_type": "code",
   "execution_count": 11,
   "metadata": {},
   "outputs": [],
   "source": [
    "# set number of cluster to be 3\n",
    "kmeansmodel = KMeans(n_clusters=3)"
   ]
  },
  {
   "cell_type": "code",
   "execution_count": 12,
   "metadata": {},
   "outputs": [
    {
     "data": {
      "text/plain": [
       "KMeans(algorithm='auto', copy_x=True, init='k-means++', max_iter=300,\n",
       "       n_clusters=3, n_init=10, n_jobs=None, precompute_distances='auto',\n",
       "       random_state=None, tol=0.0001, verbose=0)"
      ]
     },
     "execution_count": 12,
     "metadata": {},
     "output_type": "execute_result"
    }
   ],
   "source": [
    "# fit data\n",
    "kmeansmodel.fit(X_train)"
   ]
  },
  {
   "cell_type": "markdown",
   "metadata": {},
   "source": [
    "https://scikit-learn.org/stable/modules/generated/sklearn.cluster.KMeans.html\n",
    "1. n_clusters:The number of clusters to form as well as the number of centroids to generate.\n",
    "2. init: Method for initialization\n",
    "3. n_init: Number of time the k-means algorithm will be run with different centroid seeds. The final results will be the best output of n_init consecutive runs in terms of inertia.\n",
    "4. max_iter: Maximum number of iterations of the k-means algorithm for a single run."
   ]
  },
  {
   "cell_type": "code",
   "execution_count": 13,
   "metadata": {},
   "outputs": [
    {
     "data": {
      "text/plain": [
       "array([[4.94444444, 3.33333333, 1.46296296, 0.24074074],\n",
       "       [6.75769231, 3.08846154, 5.60384615, 2.02307692],\n",
       "       [5.7972973 , 2.69459459, 4.34864865, 1.42432432]])"
      ]
     },
     "execution_count": 13,
     "metadata": {},
     "output_type": "execute_result"
    }
   ],
   "source": [
    "# centroids\n",
    "centroids = kmeansmodel.cluster_centers_\n",
    "centroids"
   ]
  },
  {
   "cell_type": "code",
   "execution_count": 14,
   "metadata": {},
   "outputs": [
    {
     "data": {
      "text/plain": [
       "4"
      ]
     },
     "execution_count": 14,
     "metadata": {},
     "output_type": "execute_result"
    }
   ],
   "source": [
    "# number of iteration \n",
    "interation = kmeansmodel.n_iter_\n",
    "interation"
   ]
  },
  {
   "cell_type": "code",
   "execution_count": 15,
   "metadata": {},
   "outputs": [
    {
     "data": {
      "text/plain": [
       "46.44977323477323"
      ]
     },
     "execution_count": 15,
     "metadata": {},
     "output_type": "execute_result"
    }
   ],
   "source": [
    "#Sum of squared distances of samples to their closest cluster center\n",
    "SSD = kmeansmodel.inertia_\n",
    "SSD"
   ]
  },
  {
   "cell_type": "code",
   "execution_count": 16,
   "metadata": {},
   "outputs": [
    {
     "data": {
      "text/plain": [
       "array([[4.0599452 , 0.95160251, 0.83538   ],\n",
       "       [0.46687238, 4.579487  , 2.99784071],\n",
       "       [0.36692845, 4.73832261, 3.12777795],\n",
       "       [0.38563008, 4.51137123, 2.95338016],\n",
       "       [3.07315247, 1.9961909 , 0.27660152],\n",
       "       [0.17797057, 4.79689094, 3.25539391],\n",
       "       [3.01554728, 1.94287882, 0.41851768],\n",
       "       [6.25108934, 1.62082874, 3.31251032],\n",
       "       [0.37688711, 5.06596574, 3.44709361],\n",
       "       [3.30681219, 1.60293278, 0.47136406],\n",
       "       [4.10742411, 1.35283507, 0.89609982],\n",
       "       [1.03217112, 4.87988111, 3.54233398],\n",
       "       [3.84609078, 1.1304225 , 0.69225075],\n",
       "       [4.13693922, 1.15632426, 0.88928776],\n",
       "       [3.06784509, 2.2321448 , 0.76636754],\n",
       "       [3.33586118, 1.8284528 , 0.52891554],\n",
       "       [4.61753977, 0.72547679, 1.59119886],\n",
       "       [2.98914818, 2.30187408, 0.6173354 ],\n",
       "       [0.7811479 , 4.51401335, 3.11053489],\n",
       "       [2.24099172, 3.17262468, 1.43913272],\n",
       "       [4.4716605 , 0.6215437 , 1.22254509],\n",
       "       [0.09910436, 4.9122462 , 3.34599725],\n",
       "       [0.30277636, 5.08127873, 3.50771663],\n",
       "       [2.71658272, 2.48227742, 0.76247837],\n",
       "       [4.22293204, 0.69293775, 1.18676042],\n",
       "       [0.27856678, 4.89805389, 3.29213153],\n",
       "       [4.34820178, 1.1816584 , 1.23595691],\n",
       "       [0.10277361, 4.83235979, 3.2782692 ],\n",
       "       [0.42274172, 4.61679305, 3.08527808],\n",
       "       [3.80761997, 1.2016692 , 0.78155788],\n",
       "       [1.95434165, 3.27510558, 1.56465013],\n",
       "       [5.10245106, 0.34441873, 2.01602238],\n",
       "       [4.07319688, 1.07603672, 0.79781477],\n",
       "       [4.50910677, 1.02926843, 1.29114249],\n",
       "       [5.78332592, 1.10391316, 2.74728766],\n",
       "       [2.92603375, 2.2412585 , 0.51309371],\n",
       "       [0.69987261, 5.15656501, 3.49115024],\n",
       "       [0.82338923, 5.48004854, 3.82658132],\n",
       "       [4.06140454, 1.41481489, 0.84598912],\n",
       "       [5.30295231, 0.64403269, 2.25634727],\n",
       "       [0.41966412, 4.98206101, 3.34837924],\n",
       "       [0.24382638, 4.85372272, 3.33069594],\n",
       "       [0.66011181, 5.23576543, 3.58314678],\n",
       "       [3.99135726, 1.15099005, 0.77478525],\n",
       "       [4.8599847 , 0.66979419, 1.80779701],\n",
       "       [0.36133421, 5.03924686, 3.44815192],\n",
       "       [4.82790954, 0.16222382, 1.6973016 ],\n",
       "       [5.24667509, 0.7991397 , 2.12208981],\n",
       "       [0.32518856, 5.10815423, 3.50038921],\n",
       "       [3.65313252, 1.29353765, 0.50779893],\n",
       "       [3.7591133 , 1.19621568, 0.75749964],\n",
       "       [3.92784544, 1.04410858, 0.71981249],\n",
       "       [4.00816382, 1.12974181, 1.35128378],\n",
       "       [4.59345422, 0.55623151, 1.51346042],\n",
       "       [0.51226386, 4.75485271, 3.28057679],\n",
       "       [4.77867634, 0.26048998, 1.71527959],\n",
       "       [3.17825473, 1.7285413 , 0.36282714],\n",
       "       [4.42620641, 0.48770383, 1.28189904],\n",
       "       [2.41549922, 2.613458  , 0.95847304],\n",
       "       [2.78378363, 2.42252436, 0.74744268],\n",
       "       [3.55405447, 1.35510759, 0.49866879],\n",
       "       [1.1381464 , 5.21640987, 3.52094433],\n",
       "       [3.72715354, 1.26132151, 0.87473256],\n",
       "       [3.22378421, 1.98672741, 0.38767536],\n",
       "       [0.51370784, 4.76067315, 3.29725853],\n",
       "       [2.93544864, 2.03284786, 0.45769135],\n",
       "       [5.61824141, 0.92952078, 2.49984222],\n",
       "       [4.94898113, 0.25147494, 1.86120283],\n",
       "       [0.43055456, 4.75372013, 3.26513445],\n",
       "       [2.19642121, 3.20614932, 1.47364973],\n",
       "       [5.11271177, 0.53364605, 2.04073921],\n",
       "       [5.08489115, 0.64879269, 2.04893387],\n",
       "       [0.27856678, 4.89805389, 3.29213153],\n",
       "       [4.99138215, 0.38150667, 1.87003982],\n",
       "       [0.34454399, 4.94517726, 3.33045249],\n",
       "       [4.15663319, 0.88847819, 1.30000843],\n",
       "       [5.52896476, 0.87010677, 2.42348203],\n",
       "       [4.64453157, 0.54293472, 1.41489003],\n",
       "       [2.98852859, 1.99657621, 0.31282543],\n",
       "       [4.61083742, 0.36712138, 1.4331105 ],\n",
       "       [3.55717941, 1.6742878 , 0.65307611],\n",
       "       [3.38780594, 1.54477072, 0.65058832],\n",
       "       [3.95251999, 1.38542177, 0.82790538],\n",
       "       [4.08454714, 1.0232721 , 0.89971183],\n",
       "       [0.51944362, 4.52813525, 3.02815978],\n",
       "       [3.02957756, 1.90024523, 0.48964441],\n",
       "       [3.47123196, 2.26277766, 0.97052244],\n",
       "       [1.11679411, 4.946266  , 3.62174667],\n",
       "       [2.93708841, 2.09893957, 0.42524431],\n",
       "       [5.28220347, 0.46757273, 2.15720547]])"
      ]
     },
     "execution_count": 16,
     "metadata": {},
     "output_type": "execute_result"
    }
   ],
   "source": [
    "# Transform X to a cluster-distance space\n",
    "distance = kmeansmodel.transform(X_train)\n",
    "distance"
   ]
  },
  {
   "cell_type": "code",
   "execution_count": 17,
   "metadata": {},
   "outputs": [],
   "source": [
    "train_label=kmeansmodel.labels_"
   ]
  },
  {
   "cell_type": "code",
   "execution_count": 18,
   "metadata": {},
   "outputs": [
    {
     "data": {
      "text/html": [
       "<div>\n",
       "<style scoped>\n",
       "    .dataframe tbody tr th:only-of-type {\n",
       "        vertical-align: middle;\n",
       "    }\n",
       "\n",
       "    .dataframe tbody tr th {\n",
       "        vertical-align: top;\n",
       "    }\n",
       "\n",
       "    .dataframe thead th {\n",
       "        text-align: right;\n",
       "    }\n",
       "</style>\n",
       "<table border=\"1\" class=\"dataframe\">\n",
       "  <thead>\n",
       "    <tr style=\"text-align: right;\">\n",
       "      <th></th>\n",
       "      <th>cluster</th>\n",
       "    </tr>\n",
       "    <tr>\n",
       "      <th>Class</th>\n",
       "      <th></th>\n",
       "    </tr>\n",
       "  </thead>\n",
       "  <tbody>\n",
       "    <tr>\n",
       "      <th>Iris-virginica</th>\n",
       "      <td>2</td>\n",
       "    </tr>\n",
       "    <tr>\n",
       "      <th>Iris-setosa</th>\n",
       "      <td>0</td>\n",
       "    </tr>\n",
       "    <tr>\n",
       "      <th>Iris-setosa</th>\n",
       "      <td>0</td>\n",
       "    </tr>\n",
       "    <tr>\n",
       "      <th>Iris-setosa</th>\n",
       "      <td>0</td>\n",
       "    </tr>\n",
       "    <tr>\n",
       "      <th>Iris-versicolor</th>\n",
       "      <td>2</td>\n",
       "    </tr>\n",
       "    <tr>\n",
       "      <th>...</th>\n",
       "      <td>...</td>\n",
       "    </tr>\n",
       "    <tr>\n",
       "      <th>Iris-versicolor</th>\n",
       "      <td>2</td>\n",
       "    </tr>\n",
       "    <tr>\n",
       "      <th>Iris-virginica</th>\n",
       "      <td>2</td>\n",
       "    </tr>\n",
       "    <tr>\n",
       "      <th>Iris-setosa</th>\n",
       "      <td>0</td>\n",
       "    </tr>\n",
       "    <tr>\n",
       "      <th>Iris-versicolor</th>\n",
       "      <td>2</td>\n",
       "    </tr>\n",
       "    <tr>\n",
       "      <th>Iris-virginica</th>\n",
       "      <td>1</td>\n",
       "    </tr>\n",
       "  </tbody>\n",
       "</table>\n",
       "<p>90 rows × 1 columns</p>\n",
       "</div>"
      ],
      "text/plain": [
       "                 cluster\n",
       "Class                   \n",
       "Iris-virginica         2\n",
       "Iris-setosa            0\n",
       "Iris-setosa            0\n",
       "Iris-setosa            0\n",
       "Iris-versicolor        2\n",
       "...                  ...\n",
       "Iris-versicolor        2\n",
       "Iris-virginica         2\n",
       "Iris-setosa            0\n",
       "Iris-versicolor        2\n",
       "Iris-virginica         1\n",
       "\n",
       "[90 rows x 1 columns]"
      ]
     },
     "execution_count": 18,
     "metadata": {},
     "output_type": "execute_result"
    }
   ],
   "source": [
    "trainlabels=pd.DataFrame(train_label,y_train,columns=['cluster'])\n",
    "trainlabels"
   ]
  },
  {
   "cell_type": "code",
   "execution_count": 31,
   "metadata": {},
   "outputs": [],
   "source": [
    "Iris_virginica = trainlabels.loc['Iris-virginica']\n",
    "Iris_setosa = trainlabels.loc['Iris-setosa']\n",
    "Iris_versicolor = trainlabels.loc['Iris-versicolor']"
   ]
  },
  {
   "cell_type": "code",
   "execution_count": 33,
   "metadata": {},
   "outputs": [
    {
     "data": {
      "text/html": [
       "<div>\n",
       "<style scoped>\n",
       "    .dataframe tbody tr th:only-of-type {\n",
       "        vertical-align: middle;\n",
       "    }\n",
       "\n",
       "    .dataframe tbody tr th {\n",
       "        vertical-align: top;\n",
       "    }\n",
       "\n",
       "    .dataframe thead th {\n",
       "        text-align: right;\n",
       "    }\n",
       "</style>\n",
       "<table border=\"1\" class=\"dataframe\">\n",
       "  <thead>\n",
       "    <tr style=\"text-align: right;\">\n",
       "      <th></th>\n",
       "      <th>cluster</th>\n",
       "    </tr>\n",
       "    <tr>\n",
       "      <th>Class</th>\n",
       "      <th></th>\n",
       "    </tr>\n",
       "  </thead>\n",
       "  <tbody>\n",
       "    <tr>\n",
       "      <th>Iris-versicolor</th>\n",
       "      <td>2</td>\n",
       "    </tr>\n",
       "    <tr>\n",
       "      <th>Iris-versicolor</th>\n",
       "      <td>2</td>\n",
       "    </tr>\n",
       "    <tr>\n",
       "      <th>Iris-versicolor</th>\n",
       "      <td>2</td>\n",
       "    </tr>\n",
       "    <tr>\n",
       "      <th>Iris-versicolor</th>\n",
       "      <td>2</td>\n",
       "    </tr>\n",
       "    <tr>\n",
       "      <th>Iris-versicolor</th>\n",
       "      <td>2</td>\n",
       "    </tr>\n",
       "    <tr>\n",
       "      <th>Iris-versicolor</th>\n",
       "      <td>2</td>\n",
       "    </tr>\n",
       "    <tr>\n",
       "      <th>Iris-versicolor</th>\n",
       "      <td>2</td>\n",
       "    </tr>\n",
       "    <tr>\n",
       "      <th>Iris-versicolor</th>\n",
       "      <td>2</td>\n",
       "    </tr>\n",
       "    <tr>\n",
       "      <th>Iris-versicolor</th>\n",
       "      <td>1</td>\n",
       "    </tr>\n",
       "    <tr>\n",
       "      <th>Iris-versicolor</th>\n",
       "      <td>2</td>\n",
       "    </tr>\n",
       "    <tr>\n",
       "      <th>Iris-versicolor</th>\n",
       "      <td>2</td>\n",
       "    </tr>\n",
       "    <tr>\n",
       "      <th>Iris-versicolor</th>\n",
       "      <td>2</td>\n",
       "    </tr>\n",
       "    <tr>\n",
       "      <th>Iris-versicolor</th>\n",
       "      <td>2</td>\n",
       "    </tr>\n",
       "    <tr>\n",
       "      <th>Iris-versicolor</th>\n",
       "      <td>2</td>\n",
       "    </tr>\n",
       "    <tr>\n",
       "      <th>Iris-versicolor</th>\n",
       "      <td>2</td>\n",
       "    </tr>\n",
       "    <tr>\n",
       "      <th>Iris-versicolor</th>\n",
       "      <td>2</td>\n",
       "    </tr>\n",
       "    <tr>\n",
       "      <th>Iris-versicolor</th>\n",
       "      <td>1</td>\n",
       "    </tr>\n",
       "    <tr>\n",
       "      <th>Iris-versicolor</th>\n",
       "      <td>2</td>\n",
       "    </tr>\n",
       "    <tr>\n",
       "      <th>Iris-versicolor</th>\n",
       "      <td>2</td>\n",
       "    </tr>\n",
       "    <tr>\n",
       "      <th>Iris-versicolor</th>\n",
       "      <td>2</td>\n",
       "    </tr>\n",
       "    <tr>\n",
       "      <th>Iris-versicolor</th>\n",
       "      <td>2</td>\n",
       "    </tr>\n",
       "    <tr>\n",
       "      <th>Iris-versicolor</th>\n",
       "      <td>2</td>\n",
       "    </tr>\n",
       "    <tr>\n",
       "      <th>Iris-versicolor</th>\n",
       "      <td>2</td>\n",
       "    </tr>\n",
       "    <tr>\n",
       "      <th>Iris-versicolor</th>\n",
       "      <td>2</td>\n",
       "    </tr>\n",
       "    <tr>\n",
       "      <th>Iris-versicolor</th>\n",
       "      <td>2</td>\n",
       "    </tr>\n",
       "    <tr>\n",
       "      <th>Iris-versicolor</th>\n",
       "      <td>1</td>\n",
       "    </tr>\n",
       "    <tr>\n",
       "      <th>Iris-versicolor</th>\n",
       "      <td>2</td>\n",
       "    </tr>\n",
       "    <tr>\n",
       "      <th>Iris-versicolor</th>\n",
       "      <td>2</td>\n",
       "    </tr>\n",
       "    <tr>\n",
       "      <th>Iris-versicolor</th>\n",
       "      <td>2</td>\n",
       "    </tr>\n",
       "    <tr>\n",
       "      <th>Iris-versicolor</th>\n",
       "      <td>2</td>\n",
       "    </tr>\n",
       "    <tr>\n",
       "      <th>Iris-versicolor</th>\n",
       "      <td>2</td>\n",
       "    </tr>\n",
       "  </tbody>\n",
       "</table>\n",
       "</div>"
      ],
      "text/plain": [
       "                 cluster\n",
       "Class                   \n",
       "Iris-versicolor        2\n",
       "Iris-versicolor        2\n",
       "Iris-versicolor        2\n",
       "Iris-versicolor        2\n",
       "Iris-versicolor        2\n",
       "Iris-versicolor        2\n",
       "Iris-versicolor        2\n",
       "Iris-versicolor        2\n",
       "Iris-versicolor        1\n",
       "Iris-versicolor        2\n",
       "Iris-versicolor        2\n",
       "Iris-versicolor        2\n",
       "Iris-versicolor        2\n",
       "Iris-versicolor        2\n",
       "Iris-versicolor        2\n",
       "Iris-versicolor        2\n",
       "Iris-versicolor        1\n",
       "Iris-versicolor        2\n",
       "Iris-versicolor        2\n",
       "Iris-versicolor        2\n",
       "Iris-versicolor        2\n",
       "Iris-versicolor        2\n",
       "Iris-versicolor        2\n",
       "Iris-versicolor        2\n",
       "Iris-versicolor        2\n",
       "Iris-versicolor        1\n",
       "Iris-versicolor        2\n",
       "Iris-versicolor        2\n",
       "Iris-versicolor        2\n",
       "Iris-versicolor        2\n",
       "Iris-versicolor        2"
      ]
     },
     "execution_count": 33,
     "metadata": {},
     "output_type": "execute_result"
    }
   ],
   "source": [
    "Iris_versicolor"
   ]
  },
  {
   "cell_type": "code",
   "execution_count": 20,
   "metadata": {},
   "outputs": [
    {
     "data": {
      "text/plain": [
       "1    23\n",
       "2     9\n",
       "Name: cluster, dtype: int64"
      ]
     },
     "execution_count": 20,
     "metadata": {},
     "output_type": "execute_result"
    }
   ],
   "source": [
    "Iris_virginica[Iris_virginica.columns[0]].value_counts()"
   ]
  },
  {
   "cell_type": "code",
   "execution_count": 21,
   "metadata": {},
   "outputs": [
    {
     "data": {
      "text/plain": [
       "0    27\n",
       "Name: cluster, dtype: int64"
      ]
     },
     "execution_count": 21,
     "metadata": {},
     "output_type": "execute_result"
    }
   ],
   "source": [
    "Iris_setosa[Iris_setosa.columns[0]].value_counts()"
   ]
  },
  {
   "cell_type": "code",
   "execution_count": 22,
   "metadata": {},
   "outputs": [
    {
     "data": {
      "text/plain": [
       "2    28\n",
       "1     3\n",
       "Name: cluster, dtype: int64"
      ]
     },
     "execution_count": 22,
     "metadata": {},
     "output_type": "execute_result"
    }
   ],
   "source": [
    "Iris_versicolor[Iris_versicolor.columns[0]].value_counts()"
   ]
  },
  {
   "cell_type": "code",
   "execution_count": 23,
   "metadata": {},
   "outputs": [
    {
     "data": {
      "text/plain": [
       "array([2, 0, 1, 2, 1, 0, 2, 1, 2, 2, 1, 0, 0, 0, 0, 2, 1, 2, 2, 1, 0, 2,\n",
       "       0, 1, 1, 1, 1, 1, 0, 0, 0, 0, 2, 0, 0, 1, 2, 0, 0, 0, 2, 2, 1, 0,\n",
       "       0, 2, 1, 1, 2, 1, 2, 1, 2, 0, 1, 2, 0, 0, 0, 2], dtype=int32)"
      ]
     },
     "execution_count": 23,
     "metadata": {},
     "output_type": "execute_result"
    }
   ],
   "source": [
    "# predict cluster\n",
    "testlabels = kmeansmodel.predict(X_test)\n",
    "testlabels"
   ]
  },
  {
   "cell_type": "code",
   "execution_count": 24,
   "metadata": {},
   "outputs": [
    {
     "data": {
      "text/html": [
       "<div>\n",
       "<style scoped>\n",
       "    .dataframe tbody tr th:only-of-type {\n",
       "        vertical-align: middle;\n",
       "    }\n",
       "\n",
       "    .dataframe tbody tr th {\n",
       "        vertical-align: top;\n",
       "    }\n",
       "\n",
       "    .dataframe thead th {\n",
       "        text-align: right;\n",
       "    }\n",
       "</style>\n",
       "<table border=\"1\" class=\"dataframe\">\n",
       "  <thead>\n",
       "    <tr style=\"text-align: right;\">\n",
       "      <th></th>\n",
       "      <th>cluster assignment</th>\n",
       "    </tr>\n",
       "    <tr>\n",
       "      <th>Class</th>\n",
       "      <th></th>\n",
       "    </tr>\n",
       "  </thead>\n",
       "  <tbody>\n",
       "    <tr>\n",
       "      <th>Iris-versicolor</th>\n",
       "      <td>2</td>\n",
       "    </tr>\n",
       "    <tr>\n",
       "      <th>Iris-setosa</th>\n",
       "      <td>0</td>\n",
       "    </tr>\n",
       "    <tr>\n",
       "      <th>Iris-virginica</th>\n",
       "      <td>1</td>\n",
       "    </tr>\n",
       "    <tr>\n",
       "      <th>Iris-versicolor</th>\n",
       "      <td>2</td>\n",
       "    </tr>\n",
       "    <tr>\n",
       "      <th>Iris-versicolor</th>\n",
       "      <td>1</td>\n",
       "    </tr>\n",
       "    <tr>\n",
       "      <th>Iris-setosa</th>\n",
       "      <td>0</td>\n",
       "    </tr>\n",
       "    <tr>\n",
       "      <th>Iris-versicolor</th>\n",
       "      <td>2</td>\n",
       "    </tr>\n",
       "    <tr>\n",
       "      <th>Iris-virginica</th>\n",
       "      <td>1</td>\n",
       "    </tr>\n",
       "    <tr>\n",
       "      <th>Iris-versicolor</th>\n",
       "      <td>2</td>\n",
       "    </tr>\n",
       "    <tr>\n",
       "      <th>Iris-versicolor</th>\n",
       "      <td>2</td>\n",
       "    </tr>\n",
       "    <tr>\n",
       "      <th>Iris-virginica</th>\n",
       "      <td>1</td>\n",
       "    </tr>\n",
       "    <tr>\n",
       "      <th>Iris-setosa</th>\n",
       "      <td>0</td>\n",
       "    </tr>\n",
       "    <tr>\n",
       "      <th>Iris-setosa</th>\n",
       "      <td>0</td>\n",
       "    </tr>\n",
       "    <tr>\n",
       "      <th>Iris-setosa</th>\n",
       "      <td>0</td>\n",
       "    </tr>\n",
       "    <tr>\n",
       "      <th>Iris-setosa</th>\n",
       "      <td>0</td>\n",
       "    </tr>\n",
       "    <tr>\n",
       "      <th>Iris-versicolor</th>\n",
       "      <td>2</td>\n",
       "    </tr>\n",
       "    <tr>\n",
       "      <th>Iris-virginica</th>\n",
       "      <td>1</td>\n",
       "    </tr>\n",
       "    <tr>\n",
       "      <th>Iris-versicolor</th>\n",
       "      <td>2</td>\n",
       "    </tr>\n",
       "    <tr>\n",
       "      <th>Iris-versicolor</th>\n",
       "      <td>2</td>\n",
       "    </tr>\n",
       "    <tr>\n",
       "      <th>Iris-virginica</th>\n",
       "      <td>1</td>\n",
       "    </tr>\n",
       "    <tr>\n",
       "      <th>Iris-setosa</th>\n",
       "      <td>0</td>\n",
       "    </tr>\n",
       "    <tr>\n",
       "      <th>Iris-virginica</th>\n",
       "      <td>2</td>\n",
       "    </tr>\n",
       "    <tr>\n",
       "      <th>Iris-setosa</th>\n",
       "      <td>0</td>\n",
       "    </tr>\n",
       "    <tr>\n",
       "      <th>Iris-virginica</th>\n",
       "      <td>1</td>\n",
       "    </tr>\n",
       "    <tr>\n",
       "      <th>Iris-virginica</th>\n",
       "      <td>1</td>\n",
       "    </tr>\n",
       "    <tr>\n",
       "      <th>Iris-virginica</th>\n",
       "      <td>1</td>\n",
       "    </tr>\n",
       "    <tr>\n",
       "      <th>Iris-virginica</th>\n",
       "      <td>1</td>\n",
       "    </tr>\n",
       "    <tr>\n",
       "      <th>Iris-virginica</th>\n",
       "      <td>1</td>\n",
       "    </tr>\n",
       "    <tr>\n",
       "      <th>Iris-setosa</th>\n",
       "      <td>0</td>\n",
       "    </tr>\n",
       "    <tr>\n",
       "      <th>Iris-setosa</th>\n",
       "      <td>0</td>\n",
       "    </tr>\n",
       "    <tr>\n",
       "      <th>Iris-setosa</th>\n",
       "      <td>0</td>\n",
       "    </tr>\n",
       "    <tr>\n",
       "      <th>Iris-setosa</th>\n",
       "      <td>0</td>\n",
       "    </tr>\n",
       "    <tr>\n",
       "      <th>Iris-versicolor</th>\n",
       "      <td>2</td>\n",
       "    </tr>\n",
       "    <tr>\n",
       "      <th>Iris-setosa</th>\n",
       "      <td>0</td>\n",
       "    </tr>\n",
       "    <tr>\n",
       "      <th>Iris-setosa</th>\n",
       "      <td>0</td>\n",
       "    </tr>\n",
       "    <tr>\n",
       "      <th>Iris-virginica</th>\n",
       "      <td>1</td>\n",
       "    </tr>\n",
       "    <tr>\n",
       "      <th>Iris-versicolor</th>\n",
       "      <td>2</td>\n",
       "    </tr>\n",
       "    <tr>\n",
       "      <th>Iris-setosa</th>\n",
       "      <td>0</td>\n",
       "    </tr>\n",
       "    <tr>\n",
       "      <th>Iris-setosa</th>\n",
       "      <td>0</td>\n",
       "    </tr>\n",
       "    <tr>\n",
       "      <th>Iris-setosa</th>\n",
       "      <td>0</td>\n",
       "    </tr>\n",
       "    <tr>\n",
       "      <th>Iris-virginica</th>\n",
       "      <td>2</td>\n",
       "    </tr>\n",
       "    <tr>\n",
       "      <th>Iris-versicolor</th>\n",
       "      <td>2</td>\n",
       "    </tr>\n",
       "    <tr>\n",
       "      <th>Iris-versicolor</th>\n",
       "      <td>1</td>\n",
       "    </tr>\n",
       "    <tr>\n",
       "      <th>Iris-setosa</th>\n",
       "      <td>0</td>\n",
       "    </tr>\n",
       "    <tr>\n",
       "      <th>Iris-setosa</th>\n",
       "      <td>0</td>\n",
       "    </tr>\n",
       "    <tr>\n",
       "      <th>Iris-versicolor</th>\n",
       "      <td>2</td>\n",
       "    </tr>\n",
       "    <tr>\n",
       "      <th>Iris-virginica</th>\n",
       "      <td>1</td>\n",
       "    </tr>\n",
       "    <tr>\n",
       "      <th>Iris-virginica</th>\n",
       "      <td>1</td>\n",
       "    </tr>\n",
       "    <tr>\n",
       "      <th>Iris-versicolor</th>\n",
       "      <td>2</td>\n",
       "    </tr>\n",
       "    <tr>\n",
       "      <th>Iris-virginica</th>\n",
       "      <td>1</td>\n",
       "    </tr>\n",
       "    <tr>\n",
       "      <th>Iris-versicolor</th>\n",
       "      <td>2</td>\n",
       "    </tr>\n",
       "    <tr>\n",
       "      <th>Iris-virginica</th>\n",
       "      <td>1</td>\n",
       "    </tr>\n",
       "    <tr>\n",
       "      <th>Iris-versicolor</th>\n",
       "      <td>2</td>\n",
       "    </tr>\n",
       "    <tr>\n",
       "      <th>Iris-setosa</th>\n",
       "      <td>0</td>\n",
       "    </tr>\n",
       "    <tr>\n",
       "      <th>Iris-virginica</th>\n",
       "      <td>1</td>\n",
       "    </tr>\n",
       "    <tr>\n",
       "      <th>Iris-versicolor</th>\n",
       "      <td>2</td>\n",
       "    </tr>\n",
       "    <tr>\n",
       "      <th>Iris-setosa</th>\n",
       "      <td>0</td>\n",
       "    </tr>\n",
       "    <tr>\n",
       "      <th>Iris-setosa</th>\n",
       "      <td>0</td>\n",
       "    </tr>\n",
       "    <tr>\n",
       "      <th>Iris-setosa</th>\n",
       "      <td>0</td>\n",
       "    </tr>\n",
       "    <tr>\n",
       "      <th>Iris-versicolor</th>\n",
       "      <td>2</td>\n",
       "    </tr>\n",
       "  </tbody>\n",
       "</table>\n",
       "</div>"
      ],
      "text/plain": [
       "                 cluster assignment\n",
       "Class                              \n",
       "Iris-versicolor                   2\n",
       "Iris-setosa                       0\n",
       "Iris-virginica                    1\n",
       "Iris-versicolor                   2\n",
       "Iris-versicolor                   1\n",
       "Iris-setosa                       0\n",
       "Iris-versicolor                   2\n",
       "Iris-virginica                    1\n",
       "Iris-versicolor                   2\n",
       "Iris-versicolor                   2\n",
       "Iris-virginica                    1\n",
       "Iris-setosa                       0\n",
       "Iris-setosa                       0\n",
       "Iris-setosa                       0\n",
       "Iris-setosa                       0\n",
       "Iris-versicolor                   2\n",
       "Iris-virginica                    1\n",
       "Iris-versicolor                   2\n",
       "Iris-versicolor                   2\n",
       "Iris-virginica                    1\n",
       "Iris-setosa                       0\n",
       "Iris-virginica                    2\n",
       "Iris-setosa                       0\n",
       "Iris-virginica                    1\n",
       "Iris-virginica                    1\n",
       "Iris-virginica                    1\n",
       "Iris-virginica                    1\n",
       "Iris-virginica                    1\n",
       "Iris-setosa                       0\n",
       "Iris-setosa                       0\n",
       "Iris-setosa                       0\n",
       "Iris-setosa                       0\n",
       "Iris-versicolor                   2\n",
       "Iris-setosa                       0\n",
       "Iris-setosa                       0\n",
       "Iris-virginica                    1\n",
       "Iris-versicolor                   2\n",
       "Iris-setosa                       0\n",
       "Iris-setosa                       0\n",
       "Iris-setosa                       0\n",
       "Iris-virginica                    2\n",
       "Iris-versicolor                   2\n",
       "Iris-versicolor                   1\n",
       "Iris-setosa                       0\n",
       "Iris-setosa                       0\n",
       "Iris-versicolor                   2\n",
       "Iris-virginica                    1\n",
       "Iris-virginica                    1\n",
       "Iris-versicolor                   2\n",
       "Iris-virginica                    1\n",
       "Iris-versicolor                   2\n",
       "Iris-virginica                    1\n",
       "Iris-versicolor                   2\n",
       "Iris-setosa                       0\n",
       "Iris-virginica                    1\n",
       "Iris-versicolor                   2\n",
       "Iris-setosa                       0\n",
       "Iris-setosa                       0\n",
       "Iris-setosa                       0\n",
       "Iris-versicolor                   2"
      ]
     },
     "execution_count": 24,
     "metadata": {},
     "output_type": "execute_result"
    }
   ],
   "source": [
    "testdata=pd.DataFrame(testlabels,y_test,columns=['cluster assignment'])\n",
    "testdata"
   ]
  },
  {
   "cell_type": "code",
   "execution_count": 25,
   "metadata": {},
   "outputs": [],
   "source": [
    "Iris_virginica_test = testdata.loc['Iris-virginica']\n",
    "Iris_setosa_test = testdata.loc['Iris-setosa']\n",
    "Iris_versicolor_test = testdata.loc['Iris-versicolor']"
   ]
  },
  {
   "cell_type": "code",
   "execution_count": 26,
   "metadata": {},
   "outputs": [
    {
     "data": {
      "text/plain": [
       "1    16\n",
       "2     2\n",
       "Name: cluster assignment, dtype: int64"
      ]
     },
     "execution_count": 26,
     "metadata": {},
     "output_type": "execute_result"
    }
   ],
   "source": [
    "Iris_virginica_test[Iris_virginica_test.columns[0]].value_counts()"
   ]
  },
  {
   "cell_type": "code",
   "execution_count": 27,
   "metadata": {},
   "outputs": [
    {
     "data": {
      "text/plain": [
       "0    23\n",
       "Name: cluster assignment, dtype: int64"
      ]
     },
     "execution_count": 27,
     "metadata": {},
     "output_type": "execute_result"
    }
   ],
   "source": [
    "Iris_setosa_test[Iris_setosa_test.columns[0]].value_counts()"
   ]
  },
  {
   "cell_type": "code",
   "execution_count": 28,
   "metadata": {},
   "outputs": [
    {
     "data": {
      "text/plain": [
       "2    17\n",
       "1     2\n",
       "Name: cluster assignment, dtype: int64"
      ]
     },
     "execution_count": 28,
     "metadata": {},
     "output_type": "execute_result"
    }
   ],
   "source": [
    "Iris_versicolor_test[Iris_versicolor_test.columns[0]].value_counts()"
   ]
  },
  {
   "cell_type": "code",
   "execution_count": null,
   "metadata": {},
   "outputs": [],
   "source": []
  }
 ],
 "metadata": {
  "kernelspec": {
   "display_name": "Python 3",
   "language": "python",
   "name": "python3"
  },
  "language_info": {
   "codemirror_mode": {
    "name": "ipython",
    "version": 3
   },
   "file_extension": ".py",
   "mimetype": "text/x-python",
   "name": "python",
   "nbconvert_exporter": "python",
   "pygments_lexer": "ipython3",
   "version": "3.7.6"
  }
 },
 "nbformat": 4,
 "nbformat_minor": 4
}
