{
 "cells": [
  {
   "cell_type": "code",
   "execution_count": 1,
   "metadata": {},
   "outputs": [
    {
     "data": {
      "text/plain": [
       "<Figure size 1296x432 with 0 Axes>"
      ]
     },
     "metadata": {},
     "output_type": "display_data"
    }
   ],
   "source": [
    "# linear algebra\n",
    "import numpy as np \n",
    "\n",
    "# data processing\n",
    "import pandas as pd \n",
    "import datetime\n",
    "import seaborn as sns\n",
    "from sklearn.model_selection import train_test_split\n",
    "\n",
    "# data visualization\n",
    "import seaborn as sns\n",
    "%matplotlib inline\n",
    "from matplotlib import pyplot as plt\n",
    "from matplotlib import style\n",
    "\n",
    "# Algorithms\n",
    "from sklearn import linear_model\n",
    "from sklearn.linear_model import LogisticRegression\n",
    "from sklearn.linear_model import LogisticRegressionCV\n",
    "from sklearn.ensemble import RandomForestClassifier\n",
    "from sklearn.linear_model import Perceptron\n",
    "from sklearn.linear_model import SGDClassifier\n",
    "from sklearn.tree import DecisionTreeClassifier\n",
    "from sklearn.neighbors import KNeighborsClassifier\n",
    "from sklearn.svm import SVC, LinearSVC\n",
    "from sklearn.naive_bayes import GaussianNB\n",
    "from sklearn import preprocessing\n",
    "from scipy import stats\n",
    "\n",
    "# import cross validation and other evaluation tool \n",
    "from sklearn.model_selection import cross_val_score\n",
    "from sklearn.model_selection import cross_val_predict\n",
    "from sklearn.metrics import accuracy_score\n",
    "from sklearn.metrics import classification_report\n",
    "from sklearn.metrics import confusion_matrix\n",
    "# ??\n",
    "from sklearn.metrics import roc_curve, auc\n",
    "from sklearn import metrics\n",
    "import matplotlib as mpl\n",
    "import matplotlib.pyplot as plt\n",
    "\n",
    "# set display options\n",
    "pd.options.display.max_rows = 1000\n",
    "pd.options.display.max_columns = 300\n",
    "%matplotlib inline\n",
    "fig=plt.figure(figsize=(18,6))"
   ]
  },
  {
   "cell_type": "code",
   "execution_count": 1,
   "metadata": {},
   "outputs": [
    {
     "ename": "NameError",
     "evalue": "name 'pd' is not defined",
     "output_type": "error",
     "traceback": [
      "\u001b[0;31m---------------------------------------------------------------------------\u001b[0m",
      "\u001b[0;31mNameError\u001b[0m                                 Traceback (most recent call last)",
      "\u001b[0;32m<ipython-input-1-e941ad867af5>\u001b[0m in \u001b[0;36m<module>\u001b[0;34m\u001b[0m\n\u001b[0;32m----> 1\u001b[0;31m \u001b[0mdata\u001b[0m \u001b[0;34m=\u001b[0m \u001b[0mpd\u001b[0m\u001b[0;34m.\u001b[0m\u001b[0mread_csv\u001b[0m\u001b[0;34m(\u001b[0m\u001b[0;34m\"Hotel_Bookings_Prepared.csv\"\u001b[0m\u001b[0;34m,\u001b[0m \u001b[0mindex_col\u001b[0m \u001b[0;34m=\u001b[0m \u001b[0;34m\"Unnamed: 0\"\u001b[0m\u001b[0;34m)\u001b[0m\u001b[0;34m\u001b[0m\u001b[0;34m\u001b[0m\u001b[0m\n\u001b[0m\u001b[1;32m      2\u001b[0m \u001b[0mdata\u001b[0m\u001b[0;34m[\u001b[0m\u001b[0;34m'reservation_status'\u001b[0m\u001b[0;34m]\u001b[0m\u001b[0;34m\u001b[0m\u001b[0;34m\u001b[0m\u001b[0m\n",
      "\u001b[0;31mNameError\u001b[0m: name 'pd' is not defined"
     ]
    }
   ],
   "source": [
    "data = pd.read_csv(\"Hotel_Bookings_Prepared.csv\", index_col = \"Unnamed: 0\")\n",
    "data"
   ]
  },
  {
   "cell_type": "code",
   "execution_count": 33,
   "metadata": {},
   "outputs": [
    {
     "data": {
      "text/plain": [
       "115580"
      ]
     },
     "execution_count": 33,
     "metadata": {},
     "output_type": "execute_result"
    }
   ],
   "source": [
    "len(data[data['is_canceled']==0])"
   ]
  },
  {
   "cell_type": "raw",
   "metadata": {},
   "source": [
    "data.columns.values"
   ]
  },
  {
   "cell_type": "code",
   "execution_count": 4,
   "metadata": {},
   "outputs": [],
   "source": [
    "features = list(data.columns.values)\n",
    "to_be_removed = ['is_canceled','arrival_date_year','arrival_date_week_number',\n",
    "                 'arrival_date_day_of_month','country','reserved_room_type', \n",
    "                 'assigned_room_type','agent', 'company','reservation_status', \n",
    "                 'reservation_status_date','arrival_date_day_of_the_week','is_repeated_guest']\n",
    "for feature in to_be_removed:\n",
    "    features.remove(f\"{feature}\")"
   ]
  },
  {
   "cell_type": "code",
   "execution_count": 5,
   "metadata": {},
   "outputs": [],
   "source": [
    "# define model features and label\n",
    "X = data[features]\n",
    "# change target column to array\n",
    "y = data['is_canceled'].values.ravel()"
   ]
  },
  {
   "cell_type": "code",
   "execution_count": 6,
   "metadata": {},
   "outputs": [],
   "source": [
    "# Split data - 30% for testing, 70% for training\n",
    "X_train,X_test,y_train,y_test = train_test_split(X,y,test_size=0.3,random_state=1)"
   ]
  },
  {
   "cell_type": "code",
   "execution_count": 22,
   "metadata": {},
   "outputs": [],
   "source": [
    "# define models to be logistic regression\n",
    "lr= LogisticRegression(penalty='l1', C=1.0, random_state=0, solver='saga',max_iter = 4000,n_jobs=-1)"
   ]
  },
  {
   "cell_type": "code",
   "execution_count": 23,
   "metadata": {
    "scrolled": true
   },
   "outputs": [
    {
     "data": {
      "text/html": [
       "<div>\n",
       "<style scoped>\n",
       "    .dataframe tbody tr th:only-of-type {\n",
       "        vertical-align: middle;\n",
       "    }\n",
       "\n",
       "    .dataframe tbody tr th {\n",
       "        vertical-align: top;\n",
       "    }\n",
       "\n",
       "    .dataframe thead th {\n",
       "        text-align: right;\n",
       "    }\n",
       "</style>\n",
       "<table border=\"1\" class=\"dataframe\">\n",
       "  <thead>\n",
       "    <tr style=\"text-align: right;\">\n",
       "      <th></th>\n",
       "      <th>Coefficient</th>\n",
       "    </tr>\n",
       "  </thead>\n",
       "  <tbody>\n",
       "    <tr>\n",
       "      <th>lead_time</th>\n",
       "      <td>-2.627010</td>\n",
       "    </tr>\n",
       "    <tr>\n",
       "      <th>stays_in_weekend_nights</th>\n",
       "      <td>-6.172010</td>\n",
       "    </tr>\n",
       "    <tr>\n",
       "      <th>stays_in_week_nights</th>\n",
       "      <td>-7.528666</td>\n",
       "    </tr>\n",
       "    <tr>\n",
       "      <th>adults</th>\n",
       "      <td>-15.965272</td>\n",
       "    </tr>\n",
       "    <tr>\n",
       "      <th>children</th>\n",
       "      <td>-1.278255</td>\n",
       "    </tr>\n",
       "    <tr>\n",
       "      <th>babies</th>\n",
       "      <td>0.000000</td>\n",
       "    </tr>\n",
       "    <tr>\n",
       "      <th>previous_cancellations</th>\n",
       "      <td>4.277944</td>\n",
       "    </tr>\n",
       "    <tr>\n",
       "      <th>previous_bookings_not_canceled</th>\n",
       "      <td>59.033968</td>\n",
       "    </tr>\n",
       "    <tr>\n",
       "      <th>booking_changes</th>\n",
       "      <td>0.145690</td>\n",
       "    </tr>\n",
       "    <tr>\n",
       "      <th>days_in_waiting_list</th>\n",
       "      <td>-3.594609</td>\n",
       "    </tr>\n",
       "    <tr>\n",
       "      <th>adr</th>\n",
       "      <td>-60.116153</td>\n",
       "    </tr>\n",
       "    <tr>\n",
       "      <th>required_car_parking_spaces</th>\n",
       "      <td>2.710620</td>\n",
       "    </tr>\n",
       "    <tr>\n",
       "      <th>total_of_special_requests</th>\n",
       "      <td>0.269084</td>\n",
       "    </tr>\n",
       "    <tr>\n",
       "      <th>is_company</th>\n",
       "      <td>0.301012</td>\n",
       "    </tr>\n",
       "    <tr>\n",
       "      <th>is_agent</th>\n",
       "      <td>0.000000</td>\n",
       "    </tr>\n",
       "    <tr>\n",
       "      <th>is_diff_room_type</th>\n",
       "      <td>-0.032233</td>\n",
       "    </tr>\n",
       "    <tr>\n",
       "      <th>hotel_City Hotel</th>\n",
       "      <td>-0.000433</td>\n",
       "    </tr>\n",
       "    <tr>\n",
       "      <th>hotel_Resort Hotel</th>\n",
       "      <td>0.050625</td>\n",
       "    </tr>\n",
       "    <tr>\n",
       "      <th>arrival_date_month_April</th>\n",
       "      <td>-0.297416</td>\n",
       "    </tr>\n",
       "    <tr>\n",
       "      <th>arrival_date_month_August</th>\n",
       "      <td>0.191793</td>\n",
       "    </tr>\n",
       "    <tr>\n",
       "      <th>arrival_date_month_December</th>\n",
       "      <td>0.000000</td>\n",
       "    </tr>\n",
       "    <tr>\n",
       "      <th>arrival_date_month_February</th>\n",
       "      <td>-0.034038</td>\n",
       "    </tr>\n",
       "    <tr>\n",
       "      <th>arrival_date_month_January</th>\n",
       "      <td>0.004734</td>\n",
       "    </tr>\n",
       "    <tr>\n",
       "      <th>arrival_date_month_July</th>\n",
       "      <td>0.333700</td>\n",
       "    </tr>\n",
       "    <tr>\n",
       "      <th>arrival_date_month_June</th>\n",
       "      <td>0.049749</td>\n",
       "    </tr>\n",
       "    <tr>\n",
       "      <th>arrival_date_month_March</th>\n",
       "      <td>-0.013542</td>\n",
       "    </tr>\n",
       "    <tr>\n",
       "      <th>arrival_date_month_May</th>\n",
       "      <td>0.106725</td>\n",
       "    </tr>\n",
       "    <tr>\n",
       "      <th>arrival_date_month_November</th>\n",
       "      <td>-0.299214</td>\n",
       "    </tr>\n",
       "    <tr>\n",
       "      <th>arrival_date_month_October</th>\n",
       "      <td>-0.004608</td>\n",
       "    </tr>\n",
       "    <tr>\n",
       "      <th>arrival_date_month_September</th>\n",
       "      <td>-0.089968</td>\n",
       "    </tr>\n",
       "    <tr>\n",
       "      <th>meal_BB</th>\n",
       "      <td>0.000000</td>\n",
       "    </tr>\n",
       "    <tr>\n",
       "      <th>meal_FB</th>\n",
       "      <td>-0.743207</td>\n",
       "    </tr>\n",
       "    <tr>\n",
       "      <th>meal_HB</th>\n",
       "      <td>0.155706</td>\n",
       "    </tr>\n",
       "    <tr>\n",
       "      <th>meal_SC</th>\n",
       "      <td>-0.435230</td>\n",
       "    </tr>\n",
       "    <tr>\n",
       "      <th>meal_Undefined</th>\n",
       "      <td>0.585862</td>\n",
       "    </tr>\n",
       "    <tr>\n",
       "      <th>market_segment_Aviation</th>\n",
       "      <td>1.434572</td>\n",
       "    </tr>\n",
       "    <tr>\n",
       "      <th>market_segment_Complementary</th>\n",
       "      <td>0.000000</td>\n",
       "    </tr>\n",
       "    <tr>\n",
       "      <th>market_segment_Corporate</th>\n",
       "      <td>0.252102</td>\n",
       "    </tr>\n",
       "    <tr>\n",
       "      <th>market_segment_Direct</th>\n",
       "      <td>0.443414</td>\n",
       "    </tr>\n",
       "    <tr>\n",
       "      <th>market_segment_Groups</th>\n",
       "      <td>-0.339751</td>\n",
       "    </tr>\n",
       "    <tr>\n",
       "      <th>market_segment_Offline TA/TO</th>\n",
       "      <td>-0.915383</td>\n",
       "    </tr>\n",
       "    <tr>\n",
       "      <th>market_segment_Online TA</th>\n",
       "      <td>-1.494102</td>\n",
       "    </tr>\n",
       "    <tr>\n",
       "      <th>market_segment_Undefined</th>\n",
       "      <td>0.000000</td>\n",
       "    </tr>\n",
       "    <tr>\n",
       "      <th>distribution_channel_Corporate</th>\n",
       "      <td>0.000000</td>\n",
       "    </tr>\n",
       "    <tr>\n",
       "      <th>distribution_channel_Direct</th>\n",
       "      <td>-0.416959</td>\n",
       "    </tr>\n",
       "    <tr>\n",
       "      <th>distribution_channel_GDS</th>\n",
       "      <td>0.000000</td>\n",
       "    </tr>\n",
       "    <tr>\n",
       "      <th>distribution_channel_TA/TO</th>\n",
       "      <td>0.165779</td>\n",
       "    </tr>\n",
       "    <tr>\n",
       "      <th>distribution_channel_Undefined</th>\n",
       "      <td>0.000000</td>\n",
       "    </tr>\n",
       "    <tr>\n",
       "      <th>customer_type_Contract</th>\n",
       "      <td>-0.208361</td>\n",
       "    </tr>\n",
       "    <tr>\n",
       "      <th>customer_type_Group</th>\n",
       "      <td>2.170833</td>\n",
       "    </tr>\n",
       "    <tr>\n",
       "      <th>customer_type_Transient</th>\n",
       "      <td>0.110264</td>\n",
       "    </tr>\n",
       "    <tr>\n",
       "      <th>customer_type_Transient-Party</th>\n",
       "      <td>-0.397227</td>\n",
       "    </tr>\n",
       "    <tr>\n",
       "      <th>deposit_type_No Deposit</th>\n",
       "      <td>0.427885</td>\n",
       "    </tr>\n",
       "    <tr>\n",
       "      <th>deposit_type_Non Refund</th>\n",
       "      <td>-1.287085</td>\n",
       "    </tr>\n",
       "    <tr>\n",
       "      <th>deposit_type_Refundable</th>\n",
       "      <td>0.000000</td>\n",
       "    </tr>\n",
       "    <tr>\n",
       "      <th>continent_Africa</th>\n",
       "      <td>1.038709</td>\n",
       "    </tr>\n",
       "    <tr>\n",
       "      <th>continent_Antarctica</th>\n",
       "      <td>0.000000</td>\n",
       "    </tr>\n",
       "    <tr>\n",
       "      <th>continent_Asia</th>\n",
       "      <td>0.000000</td>\n",
       "    </tr>\n",
       "    <tr>\n",
       "      <th>continent_Australia</th>\n",
       "      <td>-0.336927</td>\n",
       "    </tr>\n",
       "    <tr>\n",
       "      <th>continent_Europe</th>\n",
       "      <td>0.647250</td>\n",
       "    </tr>\n",
       "    <tr>\n",
       "      <th>continent_North America</th>\n",
       "      <td>0.000000</td>\n",
       "    </tr>\n",
       "    <tr>\n",
       "      <th>continent_South America</th>\n",
       "      <td>-0.233771</td>\n",
       "    </tr>\n",
       "  </tbody>\n",
       "</table>\n",
       "</div>"
      ],
      "text/plain": [
       "                                Coefficient\n",
       "lead_time                         -2.627010\n",
       "stays_in_weekend_nights           -6.172010\n",
       "stays_in_week_nights              -7.528666\n",
       "adults                           -15.965272\n",
       "children                          -1.278255\n",
       "babies                             0.000000\n",
       "previous_cancellations             4.277944\n",
       "previous_bookings_not_canceled    59.033968\n",
       "booking_changes                    0.145690\n",
       "days_in_waiting_list              -3.594609\n",
       "adr                              -60.116153\n",
       "required_car_parking_spaces        2.710620\n",
       "total_of_special_requests          0.269084\n",
       "is_company                         0.301012\n",
       "is_agent                           0.000000\n",
       "is_diff_room_type                 -0.032233\n",
       "hotel_City Hotel                  -0.000433\n",
       "hotel_Resort Hotel                 0.050625\n",
       "arrival_date_month_April          -0.297416\n",
       "arrival_date_month_August          0.191793\n",
       "arrival_date_month_December        0.000000\n",
       "arrival_date_month_February       -0.034038\n",
       "arrival_date_month_January         0.004734\n",
       "arrival_date_month_July            0.333700\n",
       "arrival_date_month_June            0.049749\n",
       "arrival_date_month_March          -0.013542\n",
       "arrival_date_month_May             0.106725\n",
       "arrival_date_month_November       -0.299214\n",
       "arrival_date_month_October        -0.004608\n",
       "arrival_date_month_September      -0.089968\n",
       "meal_BB                            0.000000\n",
       "meal_FB                           -0.743207\n",
       "meal_HB                            0.155706\n",
       "meal_SC                           -0.435230\n",
       "meal_Undefined                     0.585862\n",
       "market_segment_Aviation            1.434572\n",
       "market_segment_Complementary       0.000000\n",
       "market_segment_Corporate           0.252102\n",
       "market_segment_Direct              0.443414\n",
       "market_segment_Groups             -0.339751\n",
       "market_segment_Offline TA/TO      -0.915383\n",
       "market_segment_Online TA          -1.494102\n",
       "market_segment_Undefined           0.000000\n",
       "distribution_channel_Corporate     0.000000\n",
       "distribution_channel_Direct       -0.416959\n",
       "distribution_channel_GDS           0.000000\n",
       "distribution_channel_TA/TO         0.165779\n",
       "distribution_channel_Undefined     0.000000\n",
       "customer_type_Contract            -0.208361\n",
       "customer_type_Group                2.170833\n",
       "customer_type_Transient            0.110264\n",
       "customer_type_Transient-Party     -0.397227\n",
       "deposit_type_No Deposit            0.427885\n",
       "deposit_type_Non Refund           -1.287085\n",
       "deposit_type_Refundable            0.000000\n",
       "continent_Africa                   1.038709\n",
       "continent_Antarctica               0.000000\n",
       "continent_Asia                     0.000000\n",
       "continent_Australia               -0.336927\n",
       "continent_Europe                   0.647250\n",
       "continent_North America            0.000000\n",
       "continent_South America           -0.233771"
      ]
     },
     "execution_count": 23,
     "metadata": {},
     "output_type": "execute_result"
    }
   ],
   "source": [
    "# build model from trainging set\n",
    "LRM = lr.fit(X_train,y_train)\n",
    "# show coefficient of the features\n",
    "coeff_LRM = pd.DataFrame(lr.coef_.flatten(), X.columns, columns=['Coefficient'])  \n",
    "coeff_LRM"
   ]
  },
  {
   "cell_type": "code",
   "execution_count": 25,
   "metadata": {},
   "outputs": [],
   "source": [
    "# predict labels in testing set\n",
    "# y_pred = predicted labels from testing set features (X_test)\n",
    "y_pred = lr.predict(X_tesmait)"
   ]
  },
  {
   "cell_type": "code",
   "execution_count": 10,
   "metadata": {},
   "outputs": [
    {
     "data": {
      "text/plain": [
       "array([[0.99615122, 0.00384878],\n",
       "       [0.98924623, 0.01075377],\n",
       "       [0.99348773, 0.00651227],\n",
       "       ...,\n",
       "       [0.98978892, 0.01021108],\n",
       "       [0.97520086, 0.02479914],\n",
       "       [0.9935792 , 0.0064208 ]])"
      ]
     },
     "execution_count": 10,
     "metadata": {},
     "output_type": "execute_result"
    }
   ],
   "source": [
    "# y_pred_prob = the probabilistic predictions\n",
    "y_pred_prob = lr.predict_proba(X_test)\n",
    "y_pred_prob"
   ]
  },
  {
   "cell_type": "code",
   "execution_count": 11,
   "metadata": {},
   "outputs": [],
   "source": [
    "# set decision threshold \n",
    "# y_pred_prob_0 = predicted result under the threshold\n",
    "y_pred_prob_0= [0 if i >= 0.70 else 1 for i in y_pred_prob[:,0]]"
   ]
  },
  {
   "cell_type": "code",
   "execution_count": 13,
   "metadata": {},
   "outputs": [
    {
     "name": "stdout",
     "output_type": "stream",
     "text": [
      "Accuracy: \n",
      " 0.9783622302258704\n",
      "Classification Report: \n",
      "               precision    recall  f1-score   support\n",
      "\n",
      "           0       0.98      0.99      0.99     34674\n",
      "           1       0.75      0.49      0.59      1143\n",
      "\n",
      "    accuracy                           0.98     35817\n",
      "   macro avg       0.87      0.74      0.79     35817\n",
      "weighted avg       0.98      0.98      0.98     35817\n",
      "\n",
      "Confusion Matrix: \n",
      " [[34486   188]\n",
      " [  587   556]]\n"
     ]
    }
   ],
   "source": [
    "# Evaluation Tools\n",
    "print(\"Accuracy: \\n\",accuracy_score(y_test,y_pred_prob_0,normalize=True,sample_weight=None))\n",
    "print(\"Classification Report: \\n\",classification_report(y_test,y_pred_prob_0))\n",
    "print(\"Confusion Matrix: \\n\",confusion_matrix(y_test,y_pred_prob_0))"
   ]
  },
  {
   "cell_type": "code",
   "execution_count": 38,
   "metadata": {},
   "outputs": [],
   "source": [
    "# calculate tpr and fpr based on different thresholds\n",
    "fpr, tpr, thresholds = metrics.roc_curve(y_test,y_pred_prob[:,1],pos_label=1)"
   ]
  },
  {
   "cell_type": "code",
   "execution_count": 39,
   "metadata": {},
   "outputs": [
    {
     "data": {
      "text/plain": [
       "0.9339087163622919"
      ]
     },
     "execution_count": 39,
     "metadata": {},
     "output_type": "execute_result"
    }
   ],
   "source": [
    "# AUC\n",
    "metrics.auc(fpr, tpr)"
   ]
  },
  {
   "cell_type": "code",
   "execution_count": 40,
   "metadata": {},
   "outputs": [
    {
     "data": {
      "text/plain": [
       "[<matplotlib.lines.Line2D at 0x7f8ca231ad10>]"
      ]
     },
     "execution_count": 40,
     "metadata": {},
     "output_type": "execute_result"
    },
    {
     "data": {
      "image/png": "[encoded data removed]",
      "text/plain": [
       "<Figure size 432x288 with 1 Axes>"
      ]
     },
     "metadata": {
      "needs_background": "light"
     },
     "output_type": "display_data"
    }
   ],
   "source": [
    "# ROC\n",
    "plt.plot(fpr,tpr)"
   ]
  },
  {
   "cell_type": "code",
   "execution_count": null,
   "metadata": {},
   "outputs": [],
   "source": []
  },
  {
   "cell_type": "code",
   "execution_count": null,
   "metadata": {},
   "outputs": [],
   "source": []
  }
 ],
 "metadata": {
  "kernelspec": {
   "display_name": "Python 3",
   "language": "python",
   "name": "python3"
  },
  "language_info": {
   "codemirror_mode": {
    "name": "ipython",
    "version": 3
   },
   "file_extension": ".py",
   "mimetype": "text/x-python",
   "name": "python",
   "nbconvert_exporter": "python",
   "pygments_lexer": "ipython3",
   "version": "3.7.6"
  }
 },
 "nbformat": 4,
 "nbformat_minor": 4
}
