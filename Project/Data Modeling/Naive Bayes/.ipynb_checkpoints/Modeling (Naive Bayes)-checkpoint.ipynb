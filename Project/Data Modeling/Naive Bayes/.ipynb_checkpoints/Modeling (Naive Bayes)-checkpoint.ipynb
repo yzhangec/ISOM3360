{
 "cells": [
  {
   "cell_type": "code",
   "execution_count": null,
   "metadata": {},
   "outputs": [],
   "source": []
  },
  {
   "cell_type": "code",
   "execution_count": 2,
   "metadata": {
    "colab": {},
    "colab_type": "code",
    "id": "0AsX140b7U2L",
    "outputId": "35f9ff19-1cd7-4302-bc71-0bfe66d3590b"
   },
   "outputs": [
    {
     "ename": "NameError",
     "evalue": "name 'pd' is not defined",
     "output_type": "error",
     "traceback": [
      "\u001b[0;31m---------------------------------------------------------------------------\u001b[0m",
      "\u001b[0;31mNameError\u001b[0m                                 Traceback (most recent call last)",
      "\u001b[0;32m<ipython-input-2-86d497009f96>\u001b[0m in \u001b[0;36m<module>\u001b[0;34m\u001b[0m\n\u001b[0;32m----> 1\u001b[0;31m \u001b[0mdata\u001b[0m \u001b[0;34m=\u001b[0m \u001b[0mpd\u001b[0m\u001b[0;34m.\u001b[0m\u001b[0mread_csv\u001b[0m\u001b[0;34m(\u001b[0m\u001b[0;34m\"Hotel_Bookings_Prepared.csv\"\u001b[0m\u001b[0;34m,\u001b[0m \u001b[0mindex_col\u001b[0m \u001b[0;34m=\u001b[0m \u001b[0;34m\"Unnamed: 0\"\u001b[0m\u001b[0;34m)\u001b[0m\u001b[0;34m\u001b[0m\u001b[0;34m\u001b[0m\u001b[0m\n\u001b[0m\u001b[1;32m      2\u001b[0m \u001b[0mdata\u001b[0m\u001b[0;34m[\u001b[0m\u001b[0;34m'reservation_status'\u001b[0m\u001b[0;34m]\u001b[0m\u001b[0;34m.\u001b[0m\u001b[0mhist\u001b[0m\u001b[0;34m(\u001b[0m\u001b[0;34m)\u001b[0m\u001b[0;34m\u001b[0m\u001b[0;34m\u001b[0m\u001b[0m\n",
      "\u001b[0;31mNameError\u001b[0m: name 'pd' is not defined"
     ]
    }
   ],
   "source": [
    "data = pd.read_csv(\"Hotel_Bookings_Prepared.csv\", index_col = \"Unnamed: 0\")\n",
    "data['reservation_status'].hist()"
   ]
  },
  {
   "cell_type": "code",
   "execution_count": null,
   "metadata": {
    "colab": {},
    "colab_type": "code",
    "id": "r4GV3WTF7U2P",
    "outputId": "143c8119-e5ec-4c42-d2e9-93c2d1992a9b"
   },
   "outputs": [
    {
     "data": {
      "text/plain": [
       "array(['is_canceled', 'lead_time', 'arrival_date_year',\n",
       "       'arrival_date_week_number', 'arrival_date_day_of_month',\n",
       "       'stays_in_weekend_nights', 'stays_in_week_nights', 'adults',\n",
       "       'children', 'babies', 'country', 'is_repeated_guest',\n",
       "       'previous_cancellations', 'previous_bookings_not_canceled',\n",
       "       'reserved_room_type', 'assigned_room_type', 'booking_changes',\n",
       "       'agent', 'company', 'days_in_waiting_list', 'adr',\n",
       "       'required_car_parking_spaces', 'total_of_special_requests',\n",
       "       'reservation_status', 'reservation_status_date', 'is_company',\n",
       "       'is_agent', 'is_diff_room_type', 'arrival_date_day_of_the_week',\n",
       "       'hotel_encoded', 'arrival_date_month_encoded', 'meal_encoded',\n",
       "       'market_segment_encoded', 'distribution_channel_encoded',\n",
       "       'customer_type_encoded', 'deposit_type_encoded',\n",
       "       'hotel_City Hotel', 'hotel_Resort Hotel',\n",
       "       'arrival_date_month_April', 'arrival_date_month_August',\n",
       "       'arrival_date_month_December', 'arrival_date_month_February',\n",
       "       'arrival_date_month_January', 'arrival_date_month_July',\n",
       "       'arrival_date_month_June', 'arrival_date_month_March',\n",
       "       'arrival_date_month_May', 'arrival_date_month_November',\n",
       "       'arrival_date_month_October', 'arrival_date_month_September',\n",
       "       'meal_BB', 'meal_FB', 'meal_HB', 'meal_SC', 'meal_Undefined',\n",
       "       'market_segment_Aviation', 'market_segment_Complementary',\n",
       "       'market_segment_Corporate', 'market_segment_Direct',\n",
       "       'market_segment_Groups', 'market_segment_Offline TA/TO',\n",
       "       'market_segment_Online TA', 'market_segment_Undefined',\n",
       "       'distribution_channel_Corporate', 'distribution_channel_Direct',\n",
       "       'distribution_channel_GDS', 'distribution_channel_TA/TO',\n",
       "       'distribution_channel_Undefined', 'customer_type_Contract',\n",
       "       'customer_type_Group', 'customer_type_Transient',\n",
       "       'customer_type_Transient-Party', 'deposit_type_No Deposit',\n",
       "       'deposit_type_Non Refund', 'deposit_type_Refundable',\n",
       "       'continent_encoded', 'continent_Africa', 'continent_Antarctica',\n",
       "       'continent_Asia', 'continent_Australia', 'continent_Europe',\n",
       "       'continent_North America', 'continent_South America'], dtype=object)"
      ]
     },
     "execution_count": 36,
     "metadata": {
      "tags": []
     },
     "output_type": "execute_result"
    }
   ],
   "source": [
    "data.columns.values"
   ]
  },
  {
   "cell_type": "code",
   "execution_count": null,
   "metadata": {
    "colab": {},
    "colab_type": "code",
    "id": "G7eDwme47U2T"
   },
   "outputs": [],
   "source": [
    "# features = list(data.columns.values)\n",
    "# to_be_removed = ['is_canceled','arrival_date_year','arrival_date_week_number',\n",
    "#                  'arrival_date_day_of_month','country','reserved_room_type', \n",
    "#                  'assigned_room_type','agent', 'company','reservation_status', \n",
    "#                  'reservation_status_date','arrival_date_day_of_the_week','is_repeated_guest']\n",
    "# for feature in to_be_removed:\n",
    "#     features.remove(f\"{feature}\")\n",
    "features = ['lead_time', \\\n",
    " 'stays_in_weekend_nights', \\\n",
    " 'stays_in_week_nights', \\\n",
    " 'adults', \\\n",
    " 'children', \\\n",
    " 'babies', \\\n",
    " 'previous_cancellations', \\\n",
    " 'previous_bookings_not_canceled', \\\n",
    " 'booking_changes', \\\n",
    " 'days_in_waiting_list', \\\n",
    " 'adr', \\\n",
    " 'required_car_parking_spaces', \\\n",
    " 'total_of_special_requests', \\\n",
    " 'is_company', \\\n",
    " 'is_agent', \\\n",
    " 'is_diff_room_type', \\\n",
    " 'hotel_encoded', \\\n",
    " 'arrival_date_month_encoded', \\\n",
    " 'meal_encoded', \\\n",
    " 'market_segment_encoded', \\\n",
    " 'distribution_channel_encoded', \\\n",
    " 'customer_type_encoded', \\\n",
    " 'deposit_type_encoded', \\\n",
    " 'hotel_City Hotel', \\\n",
    " 'hotel_Resort Hotel', \\\n",
    " 'continent_encoded']"
   ]
  },
  {
   "cell_type": "code",
   "execution_count": null,
   "metadata": {
    "colab": {},
    "colab_type": "code",
    "id": "RL_E57ZD7U2W"
   },
   "outputs": [],
   "source": [
    "# define model features and label\n",
    "X = data[features]\n",
    "# change target column to array\n",
    "y = data['is_canceled'].values.ravel()"
   ]
  },
  {
   "cell_type": "code",
   "execution_count": null,
   "metadata": {
    "colab": {},
    "colab_type": "code",
    "id": "4F_VR1Fn7U2Z"
   },
   "outputs": [],
   "source": [
    "X_train,X_test,y_train,y_test = train_test_split(X,y,test_size=0.3,random_state=1)"
   ]
  },
  {
   "cell_type": "code",
   "execution_count": null,
   "metadata": {
    "colab": {},
    "colab_type": "code",
    "id": "rgH7HSFB7U2c"
   },
   "outputs": [],
   "source": [
    "#Import Multinomial Naive Bayes model from sklearn\n",
    "from sklearn.naive_bayes import MultinomialNB\n",
    "\n",
    "#Create a Multinomial Bayes Classifier\n",
    "mnb = MultinomialNB()"
   ]
  },
  {
   "cell_type": "code",
   "execution_count": null,
   "metadata": {
    "colab": {},
    "colab_type": "code",
    "id": "rRr81RpN7U2g"
   },
   "outputs": [],
   "source": [
    "pred_y = cross_val_predict(mnb,X_train,y_train,cv=10)\n",
    "pred_proba = cross_val_predict(mnb, X_train,y_train,cv=10, method = 'predict_proba')"
   ]
  },
  {
   "cell_type": "code",
   "execution_count": null,
   "metadata": {
    "colab": {},
    "colab_type": "code",
    "id": "g6YjsKs77U2j",
    "outputId": "01f7b296-c337-46d4-8053-23bf661a44a4"
   },
   "outputs": [
    {
     "data": {
      "text/plain": [
       "MultinomialNB(alpha=1.0, class_prior=None, fit_prior=True)"
      ]
     },
     "execution_count": 43,
     "metadata": {
      "tags": []
     },
     "output_type": "execute_result"
    }
   ],
   "source": [
    "mnb.fit(X_train, y_train)"
   ]
  },
  {
   "cell_type": "code",
   "execution_count": null,
   "metadata": {
    "colab": {},
    "colab_type": "code",
    "id": "6KQqsxyS7U2m",
    "outputId": "5327a6eb-183b-4ea7-e48e-e5678d49e71b"
   },
   "outputs": [
    {
     "data": {
      "text/plain": [
       "array([[0.99262325, 0.00737675],\n",
       "       [0.97740031, 0.02259969],\n",
       "       [0.99768472, 0.00231528],\n",
       "       ...,\n",
       "       [0.97799883, 0.02200117],\n",
       "       [0.99225806, 0.00774194],\n",
       "       [0.98803175, 0.01196825]])"
      ]
     },
     "execution_count": 44,
     "metadata": {
      "tags": []
     },
     "output_type": "execute_result"
    }
   ],
   "source": [
    "# y_pred_prob = the probabilistic predictions\n",
    "y_pred_prob = mnb.predict_proba(X_test)\n",
    "y_pred_prob"
   ]
  },
  {
   "cell_type": "code",
   "execution_count": null,
   "metadata": {
    "colab": {},
    "colab_type": "code",
    "id": "likEo_RU7U2p"
   },
   "outputs": [],
   "source": [
    "from sklearn.metrics import roc_curve, auc\n",
    "from sklearn import metrics"
   ]
  },
  {
   "cell_type": "code",
   "execution_count": null,
   "metadata": {
    "colab": {},
    "colab_type": "code",
    "id": "VI0F86T97U2r"
   },
   "outputs": [],
   "source": [
    "fpr, tpr, thresholds = metrics.roc_curve(y_test,y_pred_prob[:,1],pos_label=1)"
   ]
  },
  {
   "cell_type": "code",
   "execution_count": null,
   "metadata": {
    "colab": {},
    "colab_type": "code",
    "id": "m7uJ6k9K7U2v",
    "outputId": "1123d3cb-bd02-49ef-fd33-8bac67249744"
   },
   "outputs": [
    {
     "data": {
      "text/plain": [
       "0.833463908376741"
      ]
     },
     "execution_count": 47,
     "metadata": {
      "tags": []
     },
     "output_type": "execute_result"
    }
   ],
   "source": [
    "metrics.auc(fpr, tpr)"
   ]
  },
  {
   "cell_type": "code",
   "execution_count": null,
   "metadata": {
    "colab": {},
    "colab_type": "code",
    "id": "rDcjYLoS7U2x",
    "outputId": "1729ceb5-13e7-44f2-8ce3-45468e735df3"
   },
   "outputs": [
    {
     "data": {
      "text/plain": [
       "[<matplotlib.lines.Line2D at 0x7f66c01621d0>]"
      ]
     },
     "execution_count": 48,
     "metadata": {
      "tags": []
     },
     "output_type": "execute_result"
    },
    {
     "data": {
      "image/png": "[encoded data removed]",
      "text/plain": [
       "<Figure size 432x288 with 1 Axes>"
      ]
     },
     "metadata": {
      "needs_background": "light",
      "tags": []
     },
     "output_type": "display_data"
    }
   ],
   "source": [
    "plt.plot(fpr,tpr)"
   ]
  },
  {
   "cell_type": "code",
   "execution_count": null,
   "metadata": {
    "colab": {},
    "colab_type": "code",
    "id": "K5dclsCO7U20"
   },
   "outputs": [],
   "source": []
  }
 ],
 "metadata": {
  "colab": {
   "name": "Modeling (Naive Bayes).ipynb",
   "provenance": []
  },
  "kernelspec": {
   "display_name": "Python 3",
   "language": "python",
   "name": "python3"
  },
  "language_info": {
   "codemirror_mode": {
    "name": "ipython",
    "version": 3
   },
   "file_extension": ".py",
   "mimetype": "text/x-python",
   "name": "python",
   "nbconvert_exporter": "python",
   "pygments_lexer": "ipython3",
   "version": "3.7.6"
  }
 },
 "nbformat": 4,
 "nbformat_minor": 4
}
